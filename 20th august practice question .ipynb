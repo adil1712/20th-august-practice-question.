{
 "cells": [
  {
   "cell_type": "markdown",
   "id": "a6981883-f728-4384-a9a6-5c3e3231849f",
   "metadata": {},
   "source": [
    "TOPIC: String Based Assignment Problem"
   ]
  },
  {
   "cell_type": "code",
   "execution_count": 1,
   "id": "0078dbbf-a912-4cc0-aa17-930d174657ec",
   "metadata": {},
   "outputs": [
    {
     "name": "stdin",
     "output_type": "stream",
     "text": [
      "Enter a string:  Hello World\n"
     ]
    },
    {
     "name": "stdout",
     "output_type": "stream",
     "text": [
      "dlroW olleH\n"
     ]
    }
   ],
   "source": [
    "# 1. Write a program to reverse a string.\n",
    "str_a = input(\"Enter a string: \")\n",
    "str_a = str_a[::-1]\n",
    "print(str_a)"
   ]
  },
  {
   "cell_type": "code",
   "execution_count": 2,
   "id": "8fc0ac81-70df-4f76-a600-41d658d7dd63",
   "metadata": {},
   "outputs": [
    {
     "name": "stdin",
     "output_type": "stream",
     "text": [
      "Enter a string:  level\n"
     ]
    },
    {
     "name": "stdout",
     "output_type": "stream",
     "text": [
      "'level' is a palindrome.\n"
     ]
    }
   ],
   "source": [
    "#2.Check if a string is a palindrome.\n",
    "def palidrome(str_b):\n",
    "    str_b = ''.join(str_b.split()).lower()\n",
    "    return str_b == str_b[::-1]\n",
    "str_c = input(\"Enter a string: \")\n",
    "\n",
    "if palidrome(str_c):\n",
    "    print(f\"'{str_c}' is a palindrome.\")\n",
    "else:\n",
    "    print(f\"'{str_c}' is not a palindrome.\")"
   ]
  },
  {
   "cell_type": "code",
   "execution_count": 3,
   "id": "40e601d7-fd06-466c-8c4e-27cd060c42df",
   "metadata": {},
   "outputs": [
    {
     "name": "stdin",
     "output_type": "stream",
     "text": [
      "Enter a string:  hello world\n"
     ]
    },
    {
     "name": "stdout",
     "output_type": "stream",
     "text": [
      "Uppercase string : HELLO WORLD\n"
     ]
    }
   ],
   "source": [
    "#3. Convert a string to uppercase.\n",
    "str_d = input(\"Enter a string: \")\n",
    "str_d = str_d.upper()\n",
    "print(\"Uppercase string :\",str_d)"
   ]
  },
  {
   "cell_type": "code",
   "execution_count": 4,
   "id": "9582d32e-acd6-4c2f-9d49-c2dec0e0dafc",
   "metadata": {},
   "outputs": [
    {
     "name": "stdin",
     "output_type": "stream",
     "text": [
      "Enter a string:  HELLO WORLD\n"
     ]
    },
    {
     "name": "stdout",
     "output_type": "stream",
     "text": [
      "lowercase string : hello world\n"
     ]
    }
   ],
   "source": [
    "#4. Convert a string to lowercase.\n",
    "str_e = input(\"Enter a string: \")\n",
    "str_e = str_e.lower()\n",
    "print(\"lowercase string :\",str_e)"
   ]
  },
  {
   "cell_type": "code",
   "execution_count": 10,
   "id": "06dfe008-dcff-4449-b8b6-b87c6fa7d0d9",
   "metadata": {},
   "outputs": [
    {
     "name": "stdin",
     "output_type": "stream",
     "text": [
      "Enter a string : Good Morning\n"
     ]
    },
    {
     "name": "stdout",
     "output_type": "stream",
     "text": [
      "Number of vowels: 4\n"
     ]
    }
   ],
   "source": [
    "#5. Count the number of vowels in a string.\n",
    "def vowels_cnt(str_f):\n",
    "   \n",
    "    vowel_count = 0\n",
    "\n",
    "    str_f = str_f.lower()\n",
    "\n",
    "    \n",
    "    vowels_name = set(\"aeiouAEIOU\")\n",
    "\n",
    "    \n",
    "    for char in str_f:\n",
    "       \n",
    "        if char in vowels_name:\n",
    "            \n",
    "            vowel_count += 1\n",
    "\n",
    "    \n",
    "    return vowel_count\n",
    "\n",
    "\n",
    "input_string = input(\"Enter a string :\")\n",
    "result = vowels_cnt(input_string)\n",
    "print(\"Number of vowels:\", result)"
   ]
  },
  {
   "cell_type": "code",
   "execution_count": 12,
   "id": "3d02ee17-99ce-4e72-bbc9-71912983ca9a",
   "metadata": {},
   "outputs": [
    {
     "name": "stdin",
     "output_type": "stream",
     "text": [
      "Enter a string : Amazing world\n"
     ]
    },
    {
     "name": "stdout",
     "output_type": "stream",
     "text": [
      "Total consonants in this string is : 8\n"
     ]
    }
   ],
   "source": [
    "#6. Count the number of consonants in a string.\n",
    "def consonants(string_a):\n",
    "    consonants_count = 0\n",
    "    string_a = string_a.lower()\n",
    "    consonants_a = \"bcdfghjklmnpqrstvwxyz\"\n",
    "    for char in string_a:\n",
    "        if char in consonants_a:\n",
    "            consonants_count += 1\n",
    "    return consonants_count\n",
    "input_string = input(\"Enter a string :\")\n",
    "result = consonants(input_string)\n",
    "print(\"Total consonants in this string is :\", result)"
   ]
  },
  {
   "cell_type": "code",
   "execution_count": 13,
   "id": "166146e0-8526-4734-a381-f22653d997c9",
   "metadata": {},
   "outputs": [
    {
     "name": "stdin",
     "output_type": "stream",
     "text": [
      "Enter a string : Hello  world\n"
     ]
    },
    {
     "name": "stdout",
     "output_type": "stream",
     "text": [
      "Helloworld\n"
     ]
    }
   ],
   "source": [
    "#7. Remove all whitespaces from a string.\n",
    "input_str = input(\"Enter a string :\")\n",
    "result = ''.join(input_str.split())\n",
    "print(result)"
   ]
  },
  {
   "cell_type": "code",
   "execution_count": 14,
   "id": "a193e458-87be-4a97-804c-d5c129ee0edc",
   "metadata": {},
   "outputs": [
    {
     "name": "stdin",
     "output_type": "stream",
     "text": [
      "Enter a string:  Sample string\n"
     ]
    },
    {
     "name": "stdout",
     "output_type": "stream",
     "text": [
      "13\n"
     ]
    }
   ],
   "source": [
    "#8. Find the length of a string without using the `len()` function.\n",
    "def length_str(input_str):\n",
    "    length_a = 0\n",
    "    for char in input_str:\n",
    "        length_a += 1\n",
    "    return length_a\n",
    "\n",
    "input_str = input(\"Enter a string: \")\n",
    "print(length_str(input_str))"
   ]
  },
  {
   "cell_type": "code",
   "execution_count": 15,
   "id": "b1d91f6d-b866-4225-b562-61765c165775",
   "metadata": {},
   "outputs": [
    {
     "name": "stdin",
     "output_type": "stream",
     "text": [
      "Enter a string:  Tomato\n",
      "Enter the specific word:  T\n"
     ]
    },
    {
     "name": "stdout",
     "output_type": "stream",
     "text": [
      "Yes, the string contains the specific word.\n"
     ]
    }
   ],
   "source": [
    "#9. Check if a string contains a specific word.\n",
    "\n",
    "input_str = input(\"Enter a string: \")\n",
    "input_specific_word = input(\"Enter the specific word: \")\n",
    "\n",
    "if input_specific_word in input_str:\n",
    "    print(\"Yes, the string contains the specific word.\")\n",
    "else:\n",
    "    print(\"No, the string not contains the specific word\")"
   ]
  },
  {
   "cell_type": "code",
   "execution_count": 17,
   "id": "d9e278b1-093d-417d-9032-003adb2f4a18",
   "metadata": {},
   "outputs": [
    {
     "name": "stdin",
     "output_type": "stream",
     "text": [
      "Enter a string : Wood\n",
      "Please enter the specific word to replace : W\n",
      "Enter another word which you want to insert : G\n"
     ]
    },
    {
     "name": "stdout",
     "output_type": "stream",
     "text": [
      "Good\n"
     ]
    }
   ],
   "source": [
    "#10. Replace a word in a string with another word.\n",
    "input_str = input(\"Enter a string :\")\n",
    "input_replace_word = input(\"Please enter the specific word to replace :\")\n",
    "input_diffrent_word = input(\"Enter another word which you want to insert :\")\n",
    "replaced_str = input_str.replace(input_replace_word,input_diffrent_word)\n",
    "print(replaced_str)"
   ]
  },
  {
   "cell_type": "code",
   "execution_count": 18,
   "id": "89cdc5f8-4c88-4576-b084-bb63ca2acb79",
   "metadata": {},
   "outputs": [
    {
     "name": "stdin",
     "output_type": "stream",
     "text": [
      "Enter a string : Banana\n",
      "Enter a word for count : n\n"
     ]
    },
    {
     "name": "stdout",
     "output_type": "stream",
     "text": [
      "2\n"
     ]
    }
   ],
   "source": [
    "#11. Count the occurrences of a word in a string.\n",
    "input_string = input(\"Enter a string :\")\n",
    "input_wordcnt = input(\"Enter a word for count :\")\n",
    "count = 0\n",
    "for char in input_string:\n",
    "    if char == input_wordcnt:\n",
    "        count += 1\n",
    "print(count)"
   ]
  },
  {
   "cell_type": "markdown",
   "id": "beb7fc15-7fe4-4e49-b88f-88e180aea567",
   "metadata": {},
   "source": []
  },
  {
   "cell_type": "code",
   "execution_count": 1,
   "id": "133ba6b1-6ffd-40c5-a7b4-c0a4901b87eb",
   "metadata": {},
   "outputs": [
    {
     "name": "stdin",
     "output_type": "stream",
     "text": [
      "Enter a string : Hello World\n",
      "Enter a word to find occurrence : l\n"
     ]
    },
    {
     "name": "stdout",
     "output_type": "stream",
     "text": [
      "Index of the first occurrence: 2\n"
     ]
    }
   ],
   "source": [
    "#12. Find the first occurrence of a word in a string.\n",
    "def firstoccurrence(string,word):\n",
    "    index = string.find(word)\n",
    "    if index == -1:\n",
    "            return None\n",
    "    return index\n",
    "    \n",
    "string = input(\"Enter a string :\")\n",
    "word = input(\"Enter a word to find occurrence :\")\n",
    "final = firstoccurrence(string, word)\n",
    "print(\"Index of the first occurrence:\", final)"
   ]
  },
  {
   "cell_type": "code",
   "execution_count": 3,
   "id": "2d4c991e-06d3-4355-ae05-751a17958328",
   "metadata": {},
   "outputs": [
    {
     "name": "stdin",
     "output_type": "stream",
     "text": [
      "Enter a string : Hello World\n",
      "Enter a word to find last occurrence : W\n"
     ]
    },
    {
     "name": "stdout",
     "output_type": "stream",
     "text": [
      "Index of the last occurrence: 6\n"
     ]
    }
   ],
   "source": [
    "#13. Find the last occurrence of a word in a string.\n",
    "def lastoccurrence(string,word):\n",
    "    index = string.rfind(word)\n",
    "    if index == -1:\n",
    "            return None\n",
    "    return index\n",
    "    \n",
    "string = input(\"Enter a string :\")\n",
    "word = input(\"Enter a word to find last occurrence :\")\n",
    "final = lastoccurrence(string, word)\n",
    "print(\"Index of the last occurrence:\", final)"
   ]
  },
  {
   "cell_type": "code",
   "execution_count": 4,
   "id": "5727999b-b28a-486f-8da6-bb024efe619b",
   "metadata": {},
   "outputs": [
    {
     "name": "stdin",
     "output_type": "stream",
     "text": [
      "Enter a string : Hello World\n"
     ]
    },
    {
     "name": "stdout",
     "output_type": "stream",
     "text": [
      "string in form of list : ['Hello', 'World']\n"
     ]
    }
   ],
   "source": [
    "#14. Split a string into a list of words.\n",
    "def split_words(string_splt):\n",
    "    \n",
    "    string_splt = string_splt.split()\n",
    "    return string_splt\n",
    "\n",
    "Enter_string = input(\"Enter a string :\")\n",
    "result = split_words(Enter_string)\n",
    "print(\"string in form of list :\",result)"
   ]
  },
  {
   "cell_type": "code",
   "execution_count": 5,
   "id": "c87722d7-4185-4439-9731-fb79d2acfade",
   "metadata": {},
   "outputs": [
    {
     "name": "stdout",
     "output_type": "stream",
     "text": [
      "Joined string: You never fail until you stop trying.\n"
     ]
    }
   ],
   "source": [
    "#15. Join a list of words into a string.\n",
    "def join_words_into_string(words_list):\n",
    "\n",
    "    joined_string = ' '.join(words_list)\n",
    "\n",
    "    # Step 2: Return the joined string.\n",
    "    return joined_string\n",
    "\n",
    "\n",
    "words = ['You', 'never', 'fail', 'until', 'you', 'stop', 'trying.']\n",
    "text = join_words_into_string(words)\n",
    "print(\"Joined string:\", text)"
   ]
  },
  {
   "cell_type": "code",
   "execution_count": 6,
   "id": "25370347-0f9c-49f1-ab70-2673edb4bbf7",
   "metadata": {},
   "outputs": [
    {
     "name": "stdin",
     "output_type": "stream",
     "text": [
      "Enter a string : THis is Example\n"
     ]
    },
    {
     "name": "stdout",
     "output_type": "stream",
     "text": [
      "string with spaces : THis_is_Example\n"
     ]
    }
   ],
   "source": [
    "# 16. Convert a string where words are separated by spaces to one where words\n",
    "# are separated by underscores.\n",
    "def convert_str(str_with_spcs):\n",
    "    str_with_spcs = str_with_spcs.replace(' ','_')\n",
    "    return str_with_spcs\n",
    "\n",
    "Enter_string2 = input(\"Enter a string :\")\n",
    "result2 = convert_str(Enter_string2)\n",
    "print(\"string with spaces :\",result2)"
   ]
  },
  {
   "cell_type": "code",
   "execution_count": 7,
   "id": "4b11c587-4442-42a7-9ae6-65a45a21a193",
   "metadata": {},
   "outputs": [
    {
     "name": "stdout",
     "output_type": "stream",
     "text": [
      "The string starts with the inserted word \n"
     ]
    }
   ],
   "source": [
    "#17. Check if a string starts with a specific word or phrase.\n",
    "def word_strt(text,words):\n",
    "    \n",
    "    strt_spcfc = text.startswith(words)\n",
    "    return strt_spcfc\n",
    "    \n",
    "text = \"In the middle of difficulty lies opportunity.\"\n",
    "words = \"In\"\n",
    "new_str = word_strt(text,words)\n",
    "if new_str:\n",
    "    print(\"The string starts with the inserted word \")\n",
    "else:\n",
    "    print(\"The string does not starts with the inserted word\")"
   ]
  },
  {
   "cell_type": "code",
   "execution_count": 9,
   "id": "096ca716-9246-47ea-981b-ba4f699a0cdd",
   "metadata": {},
   "outputs": [
    {
     "name": "stdout",
     "output_type": "stream",
     "text": [
      "The string ends with this specific word \n"
     ]
    }
   ],
   "source": [
    "#18. Check if a string ends with a specific word or phrase.\n",
    "def word_ends(text,words):\n",
    "    \n",
    "    ends_spcfc = text.endswith(words)\n",
    "    return ends_spcfc\n",
    "    \n",
    "text = \"Remember to look up at the stars and not down at your feet.\"\n",
    "words = \"feet.\"\n",
    "new_str = word_ends(text,words)\n",
    "if new_str:\n",
    "    print(\"The string ends with this specific word \")\n",
    "else:\n",
    "    print(\"The string does not ends with this word\")"
   ]
  },
  {
   "cell_type": "code",
   "execution_count": 10,
   "id": "fea8da80-4374-4b1e-86d9-f4e5bbbe9aa3",
   "metadata": {},
   "outputs": [
    {
     "name": "stdout",
     "output_type": "stream",
     "text": [
      "Intelligence Is The Ability To Adapt To Change.\n"
     ]
    }
   ],
   "source": [
    "#19. Convert a string to title case (e.g., \"hello world\" to \"Hello World\").\n",
    "def cnvrt_ttl(title_cnvrt):\n",
    "    title_cnvrt = title_cnvrt.title()\n",
    "    return title_cnvrt\n",
    "\n",
    "string_name = \"intelligence is the ability to adapt to change.\"\n",
    "string_name_result = cnvrt_ttl(string_name)\n",
    "print(string_name_result)"
   ]
  },
  {
   "cell_type": "code",
   "execution_count": 11,
   "id": "c413d618-fce9-4c33-9b9f-97d1e82caad5",
   "metadata": {},
   "outputs": [
    {
     "name": "stdout",
     "output_type": "stream",
     "text": [
      "The longest word in the string is: 'different'\n"
     ]
    }
   ],
   "source": [
    "#20. Find the longest word in a string.\n",
    "input_str = \"This is a sample sentence with several words of different lengths.\"\n",
    "\n",
    "words = input_str.split()\n",
    "longest_word = \"\"\n",
    "max_length = 0\n",
    "\n",
    "for word in words:\n",
    "   \n",
    "    word = word.strip(\".,!?;:\\\"\")\n",
    "    \n",
    "    if len(word) > max_length:\n",
    "        max_length = len(word)\n",
    "        longest_word = word\n",
    "\n",
    "\n",
    "print(f\"The longest word in the string is: '{longest_word}'\")"
   ]
  },
  {
   "cell_type": "code",
   "execution_count": 12,
   "id": "39e8a2e0-5e9a-45bf-a38a-1a80fce504fe",
   "metadata": {},
   "outputs": [
    {
     "name": "stdout",
     "output_type": "stream",
     "text": [
      "Shortest word: is\n"
     ]
    }
   ],
   "source": [
    "# 21. Find the shortest word in a string.\n",
    "def find_shortest_word(text):\n",
    "    words = text.split()\n",
    "\n",
    "    shortest_word = None\n",
    "    min_length = float('inf') \n",
    "\n",
    "    for word in words:\n",
    "        if len(word) < min_length:\n",
    "            min_length = len(word)\n",
    "            shortest_word = word\n",
    "\n",
    "    \n",
    "    return shortest_word\n",
    "\n",
    "text = \"This is an example sentence with some short words.\"\n",
    "shortest_word = find_shortest_word(text)\n",
    "print(\"Shortest word:\", shortest_word)"
   ]
  },
  {
   "cell_type": "code",
   "execution_count": 13,
   "id": "67a199f4-6093-4c85-9206-08ba341b0987",
   "metadata": {},
   "outputs": [
    {
     "name": "stdin",
     "output_type": "stream",
     "text": [
      "Enter a string : Hello python\n"
     ]
    },
    {
     "name": "stdout",
     "output_type": "stream",
     "text": [
      "Reversed String: python Hello\n"
     ]
    }
   ],
   "source": [
    "#22. Reverse the order of words in a string.\n",
    "\n",
    "input_str = input(\"Enter a string :\")\n",
    "\n",
    "words = input_str.split()\n",
    "\n",
    "reversed_words = words[::-1]\n",
    "\n",
    "reversed_str = \" \".join(reversed_words)\n",
    "\n",
    "print(\"Reversed String:\",reversed_str)"
   ]
  },
  {
   "cell_type": "code",
   "execution_count": 14,
   "id": "47ece5cf-4748-4694-977e-18fe99b3830e",
   "metadata": {},
   "outputs": [
    {
     "name": "stdin",
     "output_type": "stream",
     "text": [
      "Enter a string : Abcd113\n"
     ]
    },
    {
     "name": "stdout",
     "output_type": "stream",
     "text": [
      "The string is alphanumeric.\n"
     ]
    }
   ],
   "source": [
    "#23. Check if a string is alphanumeric.\n",
    "input_str = input(\"Enter a string :\" )\n",
    "alphanum = input_str.isalnum()\n",
    "if alphanum :\n",
    "    print(\"The string is alphanumeric.\")\n",
    "else:\n",
    "    print(\"The string does not alphanumeric\")"
   ]
  },
  {
   "cell_type": "code",
   "execution_count": 15,
   "id": "b75f2fb5-70f8-4683-99f5-08e559f00fd8",
   "metadata": {},
   "outputs": [
    {
     "name": "stdin",
     "output_type": "stream",
     "text": [
      "Enter a string:  Hello123\n"
     ]
    },
    {
     "name": "stdout",
     "output_type": "stream",
     "text": [
      "Extracted digits: 123\n"
     ]
    }
   ],
   "source": [
    "#24. Extract all digits from a string.\n",
    "str_ext = input(\"Enter a string: \")\n",
    "\n",
    "extracted_digits = \"\"\n",
    "\n",
    "for char in str_ext:\n",
    "    if char.isdigit():\n",
    "        extracted_digits += char\n",
    "\n",
    "print(\"Extracted digits:\", extracted_digits)"
   ]
  },
  {
   "cell_type": "code",
   "execution_count": 16,
   "id": "a0b53bf1-032e-4eb5-a20f-e5f03b2bcfae",
   "metadata": {},
   "outputs": [
    {
     "name": "stdin",
     "output_type": "stream",
     "text": [
      "Enter a string:  Hello123\n"
     ]
    },
    {
     "name": "stdout",
     "output_type": "stream",
     "text": [
      "Extracted digits: Hello\n"
     ]
    }
   ],
   "source": [
    "#25. Extract all alphabets from a string.\n",
    "str_alpha  = input(\"Enter a string: \")\n",
    "extracted_alphabets = \"\"\n",
    "\n",
    "# Iterate through the characters of the input string\n",
    "for text in str_alpha:\n",
    "    if text.isalpha():\n",
    "        extracted_alphabets += text\n",
    "\n",
    "# Print the extracted digits\n",
    "print(\"Extracted digits:\", extracted_alphabets)"
   ]
  },
  {
   "cell_type": "code",
   "execution_count": 17,
   "id": "d8466519-45e7-4b4c-99d7-78ad4415abf8",
   "metadata": {},
   "outputs": [
    {
     "name": "stdin",
     "output_type": "stream",
     "text": [
      "Enter a string:  Hello World\n"
     ]
    },
    {
     "name": "stdout",
     "output_type": "stream",
     "text": [
      "Number of uppercase letters: 2\n"
     ]
    }
   ],
   "source": [
    "#26. Count the number of uppercase letters in a string.\n",
    "input_str_ = input(\"Enter a string: \")\n",
    "count = 0\n",
    "\n",
    "for char in input_str_:\n",
    "    if char.isupper():\n",
    "        count += 1\n",
    "\n",
    "print(\"Number of uppercase letters:\", count)"
   ]
  },
  {
   "cell_type": "code",
   "execution_count": 18,
   "id": "acde11f4-b1fd-448f-8a4a-df4afcf5c3a7",
   "metadata": {},
   "outputs": [
    {
     "name": "stdin",
     "output_type": "stream",
     "text": [
      "Enter a string:  Hello World\n"
     ]
    },
    {
     "name": "stdout",
     "output_type": "stream",
     "text": [
      "Number of lowercase letters: 8\n"
     ]
    }
   ],
   "source": [
    "#27. Count the number of lowercase letters in a string.\n",
    "input_string = input(\"Enter a string: \")\n",
    "count = 0\n",
    "\n",
    "for char in input_string :\n",
    "    if char.islower():\n",
    "        count += 1\n",
    "\n",
    "print(\"Number of lowercase letters:\", count)"
   ]
  },
  {
   "cell_type": "code",
   "execution_count": 19,
   "id": "bc8f94ac-7fb6-4381-b623-0f254786a90c",
   "metadata": {},
   "outputs": [
    {
     "name": "stdin",
     "output_type": "stream",
     "text": [
      "Enter a original string : Hello World\n"
     ]
    },
    {
     "name": "stdout",
     "output_type": "stream",
     "text": [
      "Swapped string : hELLO wORLD\n"
     ]
    }
   ],
   "source": [
    "#28. Swap the case of each character in a string.\n",
    "original_str = input(\"Enter a original string :\")\n",
    "swapped_str = original_str.swapcase()\n",
    "print(\"Swapped string :\", swapped_str)         "
   ]
  },
  {
   "cell_type": "code",
   "execution_count": 20,
   "id": "5adfa8bc-ad89-4b3b-8e01-fa35b8707ff4",
   "metadata": {},
   "outputs": [
    {
     "name": "stdin",
     "output_type": "stream",
     "text": [
      "Enter a string:  Hello World\n"
     ]
    },
    {
     "name": "stdout",
     "output_type": "stream",
     "text": [
      "Swapped case string: hELLO wORLD\n"
     ]
    }
   ],
   "source": [
    "#28. Swap the case of each character in a string.\n",
    "\n",
    "#second method\n",
    "input_str = input(\"Enter a string: \")\n",
    "swapped_string = ''\n",
    "\n",
    "for char in input_str:\n",
    "    if char.isupper():\n",
    "        swapped_string += char.lower()\n",
    "    elif char.islower():\n",
    "        swapped_string += char.upper()\n",
    "    else:\n",
    "        swapped_string += char\n",
    "\n",
    "print(\"Swapped case string:\", swapped_string)"
   ]
  },
  {
   "cell_type": "code",
   "execution_count": 21,
   "id": "a0bfe19c-896a-4895-85fa-3c7873613418",
   "metadata": {},
   "outputs": [
    {
     "name": "stdout",
     "output_type": "stream",
     "text": [
      "Hllo World\n"
     ]
    }
   ],
   "source": [
    "# 29) Remove a specific word from a string.\n",
    "specific_word = \"e\"\n",
    "string_ = \"Hello World\"\n",
    "removed_word_str = string_.replace(specific_word,'')\n",
    "print(removed_word_str)"
   ]
  },
  {
   "cell_type": "code",
   "execution_count": 22,
   "id": "feb9b17f-053c-411d-95b0-8780cf4fc061",
   "metadata": {},
   "outputs": [
    {
     "name": "stdout",
     "output_type": "stream",
     "text": [
      "True\n",
      "False\n"
     ]
    }
   ],
   "source": [
    "# 30. Check if a string is a valid email address.\n",
    "import re\n",
    "\n",
    "def is_valid_email(email):\n",
    "    pattern = r'^[\\w\\.-]+@[\\w\\.-]+\\.\\w+$'\n",
    "    if re.match(pattern, email):\n",
    "        return True\n",
    "    else:\n",
    "        return False\n",
    "\n",
    "# Example email addresses\n",
    "email1 = \"example@email.com\"\n",
    "email2 = \"invalid-email\"\n",
    "result1 = is_valid_email(email1)\n",
    "result2 = is_valid_email(email2)\n",
    "print(result1)\n",
    "print(result2)"
   ]
  },
  {
   "cell_type": "code",
   "execution_count": 23,
   "id": "aad8c038-7ba8-455d-af35-2f493e8caf89",
   "metadata": {},
   "outputs": [
    {
     "name": "stdout",
     "output_type": "stream",
     "text": [
      "abcduser\n"
     ]
    }
   ],
   "source": [
    "#31. Extract the username from an email address string\n",
    "email = \"abcduser@gmail.com\"\n",
    "username = email.split('@')[0]\n",
    "print(username)"
   ]
  },
  {
   "cell_type": "code",
   "execution_count": 24,
   "id": "19cb7115-1214-41d1-9713-133c3387152c",
   "metadata": {},
   "outputs": [
    {
     "name": "stdout",
     "output_type": "stream",
     "text": [
      "gmail.com\n"
     ]
    }
   ],
   "source": [
    "#32. Extract the domain name from an email address string.\n",
    "email = \"domainnameextract@gmail.com\"\n",
    "domainname = email.split(\"@\")[1]\n",
    "print(domainname)"
   ]
  },
  {
   "cell_type": "code",
   "execution_count": 25,
   "id": "13208a06-dd7e-4434-a3a3-5f88c43b49f2",
   "metadata": {},
   "outputs": [
    {
     "name": "stdout",
     "output_type": "stream",
     "text": [
      "Hello World.\n"
     ]
    }
   ],
   "source": [
    "#33. Replace multiple spaces in a string with a single space.\n",
    "def string_spaces(input_str):\n",
    "    changed_str = ' '.join(input_str.split())\n",
    "    return changed_str\n",
    "input_str =  \"Hello     World.\"\n",
    "result = string_spaces(input_str)\n",
    "print(result)"
   ]
  },
  {
   "cell_type": "code",
   "execution_count": 26,
   "id": "8601d63e-d493-488f-b51f-035520d4f73a",
   "metadata": {},
   "outputs": [
    {
     "name": "stdout",
     "output_type": "stream",
     "text": [
      "True\n",
      "False\n"
     ]
    }
   ],
   "source": [
    "#34. Check if a string is a valid URL.\n",
    "from urllib.parse import urlparse\n",
    "\n",
    "def is_valid_url(url):\n",
    "    try:\n",
    "        result = urlparse(url)\n",
    "        return all([result.scheme, result.netloc])\n",
    "    except ValueError:\n",
    "        return False\n",
    "\n",
    "\n",
    "url1 = \"https://www.example.com\"\n",
    "url2 = \"invalid-url\"\n",
    "result1 = is_valid_url(url1)\n",
    "result2 = is_valid_url(url2)\n",
    "print(result1)  # Should print True\n",
    "print(result2)  # Should print False"
   ]
  },
  {
   "cell_type": "code",
   "execution_count": 27,
   "id": "482b0e07-cab7-4880-bb6c-8d543438fecf",
   "metadata": {},
   "outputs": [
    {
     "name": "stdout",
     "output_type": "stream",
     "text": [
      "https\n"
     ]
    }
   ],
   "source": [
    "#35. Extract the protocol (http or https) from a URL string.\n",
    "url_s = \"https://google.com\"\n",
    "result = url_s.split(\"://\")[0]\n",
    "print(result)"
   ]
  },
  {
   "cell_type": "code",
   "execution_count": 28,
   "id": "664f3aa2-5354-4a35-9043-0da9a69b41d8",
   "metadata": {},
   "outputs": [
    {
     "name": "stdout",
     "output_type": "stream",
     "text": [
      "Character: 'G', Frequency: 1\n",
      "Character: 'o', Frequency: 3\n",
      "Character: 'd', Frequency: 1\n",
      "Character: ' ', Frequency: 1\n",
      "Character: 'm', Frequency: 1\n",
      "Character: 'r', Frequency: 1\n",
      "Character: 'n', Frequency: 2\n",
      "Character: 'i', Frequency: 1\n",
      "Character: 'g', Frequency: 1\n"
     ]
    }
   ],
   "source": [
    "#36. Find the frequency of each character in a string.\n",
    "empty_dic = {}\n",
    "def frecuency(frecuency_str):\n",
    "    for char in frecuency_str:\n",
    "        if char in empty_dic:\n",
    "            empty_dic[char] += 1\n",
    "        else:\n",
    "            empty_dic[char] = 1\n",
    "    return empty_dic        \n",
    "\n",
    "input_str = \"Good morning\"\n",
    "char_freq = frecuency(input_str)\n",
    "\n",
    "for char, freq in char_freq.items():\n",
    "    print(f\"Character: '{char}', Frequency: {freq}\")"
   ]
  },
  {
   "cell_type": "code",
   "execution_count": 29,
   "id": "e2c9275b-a3c7-4016-a52f-5ac563f8a5cf",
   "metadata": {},
   "outputs": [
    {
     "name": "stdout",
     "output_type": "stream",
     "text": [
      "Original String: Hello, world! This is an example of removing punctuation.\n",
      "String without Punctuation: Hello world This is an example of removing punctuation\n"
     ]
    }
   ],
   "source": [
    "#37. Remove all punctuation from a string.\n",
    "import string\n",
    "\n",
    "def remove_punctuation(input_string):\n",
    "    # Create a translation table to remove punctuation\n",
    "    translator = str.maketrans('', '', string.punctuation)\n",
    "    \n",
    "    # Use translate to remove punctuation\n",
    "    clean_string = input_string.translate(translator)\n",
    "    \n",
    "    return clean_string\n",
    "\n",
    "# Test with a string containing punctuation\n",
    "input_string = \"Hello, world! This is an example of removing punctuation.\"\n",
    "cleaned_string = remove_punctuation(input_string)\n",
    "\n",
    "print(\"Original String:\", input_string)\n",
    "print(\"String without Punctuation:\", cleaned_string)\n"
   ]
  },
  {
   "cell_type": "code",
   "execution_count": 30,
   "id": "df84eca6-8251-482b-8eb0-3d52960da5e2",
   "metadata": {
    "id": "A9UtP2akq-Sp",
    "tags": []
   },
   "outputs": [
    {
     "name": "stdout",
     "output_type": "stream",
     "text": [
      "True\n"
     ]
    }
   ],
   "source": [
    "# 38. Check if a string contains only digits.\n",
    "def check_string(input_str):\n",
    "    return input_str.isdigit()\n",
    "input_string = \"12345\"\n",
    "result = check_string(input_string)\n",
    "print(result)"
   ]
  },
  {
   "cell_type": "code",
   "execution_count": 8,
   "id": "8fbb373b-16d1-4f38-ac7b-9c2423a6702d",
   "metadata": {},
   "outputs": [
    {
     "name": "stdout",
     "output_type": "stream",
     "text": [
      "True\n"
     ]
    }
   ],
   "source": [
    "# 39. Check if a string contains only alphabets.\n",
    "def check_alphabets(input_str):\n",
    "    return input_str.isalpha()\n",
    "input_string = \"Abcd\"\n",
    "result = check_alphabets(input_string)\n",
    "print(result)"
   ]
  },
  {
   "cell_type": "code",
   "execution_count": 17,
   "id": "f54a6da3-6720-414d-bae0-edf14f6640f3",
   "metadata": {},
   "outputs": [
    {
     "name": "stdin",
     "output_type": "stream",
     "text": [
      "Enter a string : Hello World\n"
     ]
    },
    {
     "name": "stdout",
     "output_type": "stream",
     "text": [
      "['H', 'e', 'l', 'l', 'o', ' ', 'W', 'o', 'r', 'l', 'd']\n"
     ]
    }
   ],
   "source": [
    "# 40. Convert a string to a list of characters.\n",
    "string_input = input(\"Enter a string :\")\n",
    "converted_string = list(string_input)\n",
    "print(converted_string)"
   ]
  },
  {
   "cell_type": "code",
   "execution_count": 21,
   "id": "da126136-b183-4329-8195-33bc256edaad",
   "metadata": {},
   "outputs": [
    {
     "name": "stdin",
     "output_type": "stream",
     "text": [
      "Enter a first string : abcd 1234\n",
      "Enter a second string : 1234 adcb\n"
     ]
    },
    {
     "name": "stdout",
     "output_type": "stream",
     "text": [
      "This two strings are anagrams.\n"
     ]
    }
   ],
   "source": [
    "# 41. Check if two strings are anagrams.\n",
    "first_string = input(\"Enter a first string :\")\n",
    "second_string = input(\"Enter a second string :\")\n",
    "\n",
    "first_string.replace(\" \",\"\").lower()\n",
    "second_string.replace(\" \",\"\").lower()\n",
    "\n",
    "if sorted(first_string)==sorted(second_string):\n",
    "    print(\"This two strings are anagrams.\")\n",
    "else:\n",
    "    print(\"This two strings are not anagrams.\")"
   ]
  },
  {
   "cell_type": "code",
   "execution_count": 4,
   "id": "960b9396-71a3-4712-92da-ce33f37efc5c",
   "metadata": {},
   "outputs": [
    {
     "name": "stdin",
     "output_type": "stream",
     "text": [
      "Enter a string:  Hello, World\n",
      "Enter a shift number:  5\n"
     ]
    },
    {
     "name": "stdout",
     "output_type": "stream",
     "text": [
      "Original Text: Hello, World\n",
      "Encoded Text: Mjqqt, Btwqi\n"
     ]
    }
   ],
   "source": [
    "#42. Encode a string using a Caesar cipher.\n",
    "def caesar_cipher(text, shift):\n",
    "    shift = int(shift)  # Convert shift to an integer\n",
    "    result = \"\"\n",
    "    \n",
    "    for char in text:\n",
    "        if char.isalpha():\n",
    "            # Determine if it's an uppercase or lowercase letter\n",
    "            is_upper = char.isupper()\n",
    "            char = char.lower()\n",
    "            \n",
    "            # Shift the character by the given amount\n",
    "            shifted_char = chr(((ord(char) - ord('a') + shift) % 26) + ord('a'))\n",
    "            \n",
    "            # Convert back to uppercase if it was uppercase\n",
    "            if is_upper:\n",
    "                shifted_char = shifted_char.upper()\n",
    "            \n",
    "            result += shifted_char\n",
    "        else:\n",
    "            result += char  # Keep non-alphabetic characters unchanged\n",
    "    \n",
    "    return result\n",
    "\n",
    "# Example usage\n",
    "text = input(\"Enter a string: \")\n",
    "shift = input(\"Enter a shift number: \")\n",
    "encoded_text = caesar_cipher(text, shift)\n",
    "\n",
    "print(\"Original Text:\", text)\n",
    "print(\"Encoded Text:\", encoded_text)"
   ]
  },
  {
   "cell_type": "code",
   "execution_count": 6,
   "id": "244231a8-ac9f-4403-a485-c34d84439ae6",
   "metadata": {},
   "outputs": [
    {
     "name": "stdin",
     "output_type": "stream",
     "text": [
      "Enter an encoded string:  Mjqqt, Btwqi\n",
      "Enter a shift key value:  5\n"
     ]
    },
    {
     "name": "stdout",
     "output_type": "stream",
     "text": [
      "Encoded Text: Mjqqt, Btwqi\n",
      "Decoded Text: Hello, World\n"
     ]
    }
   ],
   "source": [
    "# 43. Decode a Caesar cipher encoded string.\n",
    "def caesar_decipher(text, shift):\n",
    "    shift = int(shift)  # Convert shift to an integer\n",
    "    shift = -shift  # Apply a negative shift to decode\n",
    "    return caesar_cipher(text, shift)\n",
    "\n",
    "# Example usage\n",
    "encoded_text = input(\"Enter an encoded string: \")\n",
    "shift = int(input(\"Enter a shift key value: \"))\n",
    "decoded_text = caesar_decipher(encoded_text, shift)\n",
    "\n",
    "print(\"Encoded Text:\", encoded_text)\n",
    "print(\"Decoded Text:\", decoded_text)"
   ]
  },
  {
   "cell_type": "code",
   "execution_count": 7,
   "id": "9684ce2f-e17f-42f8-b3ac-82b44d1cea95",
   "metadata": {},
   "outputs": [
    {
     "name": "stdout",
     "output_type": "stream",
     "text": [
      "Most frequent word: sample\n",
      "Frequency: 3\n"
     ]
    }
   ],
   "source": [
    "# 44. Find the most frequent word in a string.\n",
    "def most_frequent_word(text):\n",
    "    # Split the text into words and convert to lowercase\n",
    "    words = text.lower().split()\n",
    "\n",
    "    # Create a dictionary to count word occurrences\n",
    "    word_count = {}\n",
    "\n",
    "    for word in words:\n",
    "        if word in word_count:\n",
    "            word_count[word] += 1\n",
    "        else:\n",
    "            word_count[word] = 1\n",
    "\n",
    "    # Find the most common word and its count\n",
    "    most_common_word = max(word_count, key=word_count.get)\n",
    "    count = word_count[most_common_word]\n",
    "\n",
    "    return most_common_word, count\n",
    "\n",
    "# Example usage\n",
    "text = \"This is a sample text. This text contains some sample words, and a few more sample words.\"\n",
    "most_common_word, count = most_frequent_word(text)\n",
    "\n",
    "print(\"Most frequent word:\", most_common_word)\n",
    "print(\"Frequency:\", count)"
   ]
  },
  {
   "cell_type": "code",
   "execution_count": 10,
   "id": "13d82fbf-fd41-438b-8163-1ae8cfa3c066",
   "metadata": {},
   "outputs": [
    {
     "name": "stdin",
     "output_type": "stream",
     "text": [
      "Enter a string : Hello , world . Hello\n"
     ]
    },
    {
     "name": "stdout",
     "output_type": "stream",
     "text": [
      "Unique words: {'.', ',', 'world', 'hello'}\n"
     ]
    }
   ],
   "source": [
    "# 45. Find all unique words in a string.\n",
    "def unique_words(text):\n",
    "    # Split the text into words and convert to lowercase\n",
    "    words = text.lower().split()\n",
    "\n",
    "    # Use a set to store unique words\n",
    "    unique_word_set = set(words)\n",
    "\n",
    "    return unique_word_set\n",
    "\n",
    "# Example usage\n",
    "text = input(\"Enter a string :\")\n",
    "unique_words_set = unique_words(text)\n",
    "\n",
    "print(\"Unique words:\", unique_words_set)"
   ]
  },
  {
   "cell_type": "code",
   "execution_count": 5,
   "id": "2dbec268-b248-4cdf-80ba-5b8d4c1b7540",
   "metadata": {},
   "outputs": [
    {
     "name": "stdout",
     "output_type": "stream",
     "text": [
      "Text: The quick brown fox jumps over the lazy dog.\n",
      "Syllable count: 9\n"
     ]
    }
   ],
   "source": [
    "#46. Count the number of syllables in a string.\n",
    "from textstat import textstat\n",
    "\n",
    "def count_syllables(text):\n",
    "    return textstat.syllable_count(text)\n",
    "\n",
    "# Example usage\n",
    "text = \"The quick brown fox jumps over the lazy dog.\"\n",
    "syllable_count = count_syllables(text)\n",
    "\n",
    "print(\"Text:\", text)\n",
    "print(\"Syllable count:\", syllable_count)"
   ]
  },
  {
   "cell_type": "code",
   "execution_count": 8,
   "id": "b3ee0c30-8ec2-48b0-a030-466c15d70e7d",
   "metadata": {},
   "outputs": [
    {
     "name": "stdout",
     "output_type": "stream",
     "text": [
      "True\n"
     ]
    }
   ],
   "source": [
    "# 47. Check if a string contains any special characters.\n",
    "import re\n",
    "def exist_char(text):\n",
    "    list_of_spcl_chr = r'[<>?:\"{}!@#$%^&*()_+,./;=-|]'\n",
    "    \n",
    "    search_char = re.search(list_of_spcl_chr,text)\n",
    "    \n",
    "    if search_char:\n",
    "         return True\n",
    "    else:\n",
    "        return False\n",
    "        \n",
    "string_sample = \"Hello World! \"\n",
    "result = exist_char(string_sample)\n",
    "print(result)"
   ]
  },
  {
   "cell_type": "code",
   "execution_count": 41,
   "id": "b9c692b2-91f0-434f-aca3-dc4273786f30",
   "metadata": {},
   "outputs": [
    {
     "name": "stdin",
     "output_type": "stream",
     "text": [
      "Enter a string : We check if the specified index n is within the valid range \n",
      "Enter a nth no : 4\n"
     ]
    },
    {
     "name": "stdout",
     "output_type": "stream",
     "text": [
      "We check if the index n is within the valid range\n"
     ]
    }
   ],
   "source": [
    "# 48. Remove the nth word from a string.\n",
    "def remove_nth_word(string,nth_no):\n",
    "    \n",
    "    try :\n",
    "        nth_no = int(nth_no)\n",
    "        total_words = string.split()\n",
    "        if 0 <= int(nth_no) < len(total_words):\n",
    "        \n",
    "            del total_words[nth_no]\n",
    "    \n",
    "            new_string = ' '.join(total_words)\n",
    "     \n",
    "            return new_string\n",
    "        else:\n",
    "            print(\"given postion is number is out of range\")\n",
    "            \n",
    "    except ValueError as a:\n",
    "        print(a)\n",
    "\n",
    "input_sentence = input(\"Enter a string :\")\n",
    "input_nth_no = input(\"Enter a nth no :\")\n",
    "result = remove_nth_word(input_sentence,input_nth_no)\n",
    "print(result)"
   ]
  },
  {
   "cell_type": "code",
   "execution_count": 22,
   "id": "97505cfe-7e19-44d4-8b2b-858118e5697c",
   "metadata": {},
   "outputs": [
    {
     "name": "stdin",
     "output_type": "stream",
     "text": [
      "Enter a string : \"The quick brown jumps over the lazy dog.\"\n",
      "Enter a word to insert : fox\n",
      "Enter a position for above word : 3\n"
     ]
    },
    {
     "name": "stdout",
     "output_type": "stream",
     "text": [
      "\"The quick brown fox jumps over the lazy dog.\"\n"
     ]
    }
   ],
   "source": [
    "# 49. Insert a word at the nth position in a string.\n",
    "input_str = input(\"Enter a string :\")\n",
    "word_insert = input(\"Enter a word to insert :\")\n",
    "position = int(input(\"Enter a position for above word :\"))\n",
    "\n",
    "changed_str = input_str.split()\n",
    "\n",
    "try:\n",
    "    \n",
    "    if 0 <=position <len(changed_str):\n",
    "        \n",
    "        changed_str.insert(position, word_insert)\n",
    "        \n",
    "        joined_str = ' '.join(changed_str)\n",
    "        \n",
    "        print(joined_str)\n",
    "    \n",
    "    else:\n",
    "        print(\"Given position is out of range. The text remains unchanged.\")\n",
    "except:\n",
    "    pass"
   ]
  },
  {
   "cell_type": "code",
   "execution_count": 1,
   "id": "d321d79e-3a5c-4430-9674-9ad23c660235",
   "metadata": {},
   "outputs": [
    {
     "name": "stdout",
     "output_type": "stream",
     "text": [
      "['Name', 'Age', 'Location']\n",
      "['Alice', '25', 'New York']\n",
      "['Bob', '30', 'Los Angeles']\n",
      "['Charlie', '22', 'Chicago']\n"
     ]
    }
   ],
   "source": [
    "# 50. Convert a CSV string to a list of lists.\n",
    "import csv\n",
    "from io import StringIO\n",
    "\n",
    "csv_string = \"\"\"Name,Age,Location\n",
    "Alice,25,New York\n",
    "Bob,30,Los Angeles\n",
    "Charlie,22,Chicago\"\"\"\n",
    "\n",
    "# Create a StringIO object to simulate a file-like object from the CSV string\n",
    "csv_file = StringIO(csv_string)\n",
    "\n",
    "# Use the csv.reader to parse the CSV data\n",
    "csv_reader = csv.reader(csv_file)\n",
    "\n",
    "# Convert the CSV data to a list of lists\n",
    "csv_data = [row for row in csv_reader]\n",
    "\n",
    "# Print the result\n",
    "for row in csv_data:\n",
    "    print(row)"
   ]
  },
  {
   "cell_type": "markdown",
   "id": "02a7d805-40a3-4269-b28d-33c6996112d1",
   "metadata": {},
   "source": [
    "List Based Practice Problem :"
   ]
  },
  {
   "cell_type": "code",
   "execution_count": 28,
   "id": "e76abac8-f283-4f50-b3d0-bd5aee350486",
   "metadata": {},
   "outputs": [
    {
     "name": "stdout",
     "output_type": "stream",
     "text": [
      "[1, 2, 3, 4, 5, 6, 7, 8, 9, 10]\n"
     ]
    }
   ],
   "source": [
    "#1. Create a list with integers from 1 to 10.\n",
    "my_list = [i for i in range(1,11)]\n",
    "print(my_list)"
   ]
  },
  {
   "cell_type": "code",
   "execution_count": 32,
   "id": "f3ffe1b3-d1ab-49fd-9f64-1b249522f014",
   "metadata": {},
   "outputs": [
    {
     "name": "stdout",
     "output_type": "stream",
     "text": [
      "3\n"
     ]
    }
   ],
   "source": [
    "#2. Find the length of a list without using the `len()` function.\n",
    "list_sample = [\"fox\",\"cow\",\"lion\"]\n",
    "count = 0\n",
    "for i in list_sample:\n",
    "    count += 1\n",
    "print(count)"
   ]
  },
  {
   "cell_type": "code",
   "execution_count": 2,
   "id": "86683173-0618-4ab8-bf84-9254b9765289",
   "metadata": {},
   "outputs": [
    {
     "name": "stdin",
     "output_type": "stream",
     "text": [
      "Enter a word to append : e\n"
     ]
    },
    {
     "name": "stdout",
     "output_type": "stream",
     "text": [
      "['a', 'b', 'c', 'd', 'e']\n"
     ]
    }
   ],
   "source": [
    "#3. Append an element to the end of a list.\n",
    "list_sample = [\"a\", \"b\", \"c\", \"d\"]\n",
    "append_element = input(\"Enter a word to append :\")\n",
    "list_sample.append(append_element)\n",
    "print(list_sample)"
   ]
  },
  {
   "cell_type": "code",
   "execution_count": 3,
   "id": "c82c0a98-4556-4dad-8bc8-c5d04488db34",
   "metadata": {},
   "outputs": [
    {
     "name": "stdout",
     "output_type": "stream",
     "text": [
      "Updated list : ['1', 2, '3', '4', '5']\n"
     ]
    }
   ],
   "source": [
    "#4. Insert an element at a specific index in a list.\n",
    "list_sample = [\"1\", \"3\", \"4\", \"5\"]\n",
    "insert_char = 2\n",
    "insert_index = 1\n",
    "list_sample.insert(insert_index,insert_char)\n",
    "print(\"Updated list :\",list_sample)"
   ]
  },
  {
   "cell_type": "code",
   "execution_count": 4,
   "id": "db97e385-6a68-48d9-8749-391ccf84a200",
   "metadata": {},
   "outputs": [
    {
     "name": "stdout",
     "output_type": "stream",
     "text": [
      "Removed version : ['yes', 'please']\n"
     ]
    }
   ],
   "source": [
    "#5. Remove an element from a list by its value.\n",
    "list_ = [\"yes\", \"ok\" ,\"please\"]\n",
    "remove_word = \"ok\"\n",
    "list_.remove(remove_word)\n",
    "print(\"Removed version :\",list_)"
   ]
  },
  {
   "cell_type": "code",
   "execution_count": 5,
   "id": "c41bfacb-1387-4059-9c66-385611a08420",
   "metadata": {},
   "outputs": [
    {
     "name": "stdout",
     "output_type": "stream",
     "text": [
      "Updated list : ['apple', 'banana', 'mango', {'fruit': 'watermelon'}]\n"
     ]
    }
   ],
   "source": [
    "#6. Remove an element from a list by its index.\n",
    "list_1 = [\"apple\",\"banana\",\"mango\",[\"pinaple\",\"orrange\"],{\"fruit\" :\"watermelon\"}]\n",
    "index_of_word = 3\n",
    "list_1.pop(index_of_word)\n",
    "print(\"Updated list :\",list_1)"
   ]
  },
  {
   "cell_type": "code",
   "execution_count": 12,
   "id": "0288d063-c1da-4655-b26a-267b4f755674",
   "metadata": {},
   "outputs": [
    {
     "name": "stdout",
     "output_type": "stream",
     "text": [
      "Yes this element is exis in main list.\n"
     ]
    }
   ],
   "source": [
    "#7. Check if an element exists in a list.\n",
    "list_of_elements = [\"apple\",\"banana\",\"mango\",[\"pinaple\",\"orrange\"],{\"fruit\" :\"watermelon\"}]\n",
    "check_element = \"mango\"\n",
    "if check_element in list_of_elements:\n",
    "    print(\"Yes this element is exis in main list.\")\n",
    "else:\n",
    "    print(\"No this element dosn't exist in this list.\")"
   ]
  },
  {
   "cell_type": "code",
   "execution_count": 18,
   "id": "6f4781dd-3cce-4128-8096-0b16451fe2f6",
   "metadata": {},
   "outputs": [
    {
     "name": "stdout",
     "output_type": "stream",
     "text": [
      "index of the first occurrence of an element is : 1\n"
     ]
    }
   ],
   "source": [
    "#8. Find the index of the first occurrence of an element in a list.\n",
    "\n",
    "list_a1 = [\"woodpacker\",\"peocock\",\"pigon\"]\n",
    "\n",
    "element_occurrence = \"peocock\"\n",
    "\n",
    "if element_occurrence in list_a1:\n",
    "    \n",
    "    print(\"index of the first occurrence of an element is :\",list_a1.index(element_occurrence))\n",
    "\n",
    "else:\n",
    "    \n",
    "    print(\"This word does not exist in the list :\")"
   ]
  },
  {
   "cell_type": "code",
   "execution_count": 1,
   "id": "6ad63e23-d660-4ff5-a738-9b41fe77b0ab",
   "metadata": {},
   "outputs": [
    {
     "name": "stdout",
     "output_type": "stream",
     "text": [
      "Total occurrence of element is : 2\n"
     ]
    }
   ],
   "source": [
    "#9. Count the occurrences of an element in a list.\n",
    "\n",
    "list_a2 = [\"Table\", \"Chair\", \"Mirror\", \"Chair\", \"Cupboard\"]\n",
    "\n",
    "perticular_element = \"Chair\"\n",
    "\n",
    "count = 0\n",
    "\n",
    "for char in list_a2:\n",
    "       if char == perticular_element:\n",
    "        count += 1\n",
    "print(\"Total occurrence of element is :\",count)"
   ]
  },
  {
   "cell_type": "code",
   "execution_count": 2,
   "id": "f402f100-ac3b-4ab5-b5f5-4e7c5612d540",
   "metadata": {},
   "outputs": [
    {
     "name": "stdout",
     "output_type": "stream",
     "text": [
      "[50, 40, 30, 20, 10]\n"
     ]
    }
   ],
   "source": [
    "#10. Reverse the order of elements in a list.\n",
    "list_a3 = [10, 20, 30, 40, 50]\n",
    "list_a3.reverse()\n",
    "print(list_a3)"
   ]
  },
  {
   "cell_type": "code",
   "execution_count": 7,
   "id": "e87c5077-6f6a-46c7-8910-294379bbb17d",
   "metadata": {},
   "outputs": [
    {
     "name": "stdout",
     "output_type": "stream",
     "text": [
      "Sorted list in ascending order : [5, 6, 6, 8, 8, 9, 10, 56, 62, 85]\n"
     ]
    }
   ],
   "source": [
    "#11. Sort a list in ascending order.\n",
    "list_a = [10,56,6,8,9,6,85,8,5,62]\n",
    "list_a.sort()\n",
    "print(\"Sorted list in ascending order :\",list_a)"
   ]
  },
  {
   "cell_type": "code",
   "execution_count": 12,
   "id": "d4f27da9-683f-49f9-8dfa-ab8ebf30cb56",
   "metadata": {},
   "outputs": [
    {
     "name": "stdout",
     "output_type": "stream",
     "text": [
      "Sorted list in descending order : ['Dog', 'Cat', 'Banana', 'Apple']\n"
     ]
    }
   ],
   "source": [
    "#12. Sort a list in descending order.\n",
    "list_b = [\"Cat\",\"Apple\",\"Dog\",\"Banana\"]\n",
    "list_b.sort(reverse = True)\n",
    "print(\"Sorted list in descending order :\",list_b)"
   ]
  },
  {
   "cell_type": "code",
   "execution_count": 7,
   "id": "fcb1459b-e2ae-44c4-86c9-3388095c449f",
   "metadata": {},
   "outputs": [
    {
     "name": "stdout",
     "output_type": "stream",
     "text": [
      "[2, 4, 6, 8, 10, 12, 14, 16, 18, 20]\n"
     ]
    }
   ],
   "source": [
    "#13. Create a list of even numbers from 1 to 20.\n",
    "l = []\n",
    "for i in range(1,21):\n",
    "    if i%2 == 0:\n",
    "        l.append(i)\n",
    "print(l)"
   ]
  },
  {
   "cell_type": "code",
   "execution_count": 9,
   "id": "e2e88290-6034-4605-9ab7-a71f6358cd72",
   "metadata": {},
   "outputs": [
    {
     "name": "stdout",
     "output_type": "stream",
     "text": [
      "[1, 3, 5, 7, 9, 11, 13, 15, 17, 19]\n"
     ]
    }
   ],
   "source": [
    "#14. Create a list of odd numbers from 1 to 20.\n",
    "l1 = []\n",
    "\n",
    "for i in range(1,21):\n",
    "   \n",
    "    if i%2 != 0:\n",
    "        \n",
    "        l1.append(i)\n",
    "\n",
    "print(l1)"
   ]
  },
  {
   "cell_type": "code",
   "execution_count": 12,
   "id": "6f61983a-d9b5-45f2-90d9-2bbfe4ef09f1",
   "metadata": {},
   "outputs": [
    {
     "name": "stdout",
     "output_type": "stream",
     "text": [
      "Total sum : 260\n"
     ]
    }
   ],
   "source": [
    "#15. Find the sum of all elements in a list.\n",
    "\n",
    "l3 = [5,3,5,9,2,31,52,68,2,5,78]\n",
    "\n",
    "total_sum = sum(l3)\n",
    "\n",
    "\n",
    "print(\"Total sum :\",total_sum)"
   ]
  },
  {
   "cell_type": "code",
   "execution_count": 17,
   "id": "d7162ab4-37f4-4899-aea4-4e1ccc6f1d10",
   "metadata": {},
   "outputs": [
    {
     "name": "stdout",
     "output_type": "stream",
     "text": [
      "Maximum value in a list is : 86\n"
     ]
    }
   ],
   "source": [
    "#16. Find the maximum value in a list.\n",
    "\n",
    "list_04 = [2, 5, 32, 8, 86, 22, 1, 9]\n",
    "\n",
    "maximum = max(list_04)\n",
    "\n",
    "print(\"Maximum value in a list is :\",maximum)"
   ]
  },
  {
   "cell_type": "code",
   "execution_count": 19,
   "id": "853f60db-7ae7-4326-aedd-c34e26887c58",
   "metadata": {},
   "outputs": [
    {
     "name": "stdout",
     "output_type": "stream",
     "text": [
      "Minimum value in a list is : 1\n"
     ]
    }
   ],
   "source": [
    "#17. Find the minimum value in a list.\n",
    "\n",
    "list_05 = [2, 5, 32, 8, 86, 22, 1, 9]\n",
    "\n",
    "Minimum = min(list_05)\n",
    "\n",
    "print(\"Minimum value in a list is :\",Minimum)"
   ]
  },
  {
   "cell_type": "code",
   "execution_count": 23,
   "id": "bcb2ecb9-6142-4a17-afd7-04f3da4d4cfc",
   "metadata": {},
   "outputs": [
    {
     "name": "stdout",
     "output_type": "stream",
     "text": [
      "[1, 4, 9, 16, 25, 36, 49, 64, 81, 100]\n"
     ]
    }
   ],
   "source": [
    "#18. Create a list of squares of numbers from 1 to 10.\n",
    "l = []\n",
    "for i in range(1,11):\n",
    "    i = i**2\n",
    "    l.append(i)\n",
    "print(l)"
   ]
  },
  {
   "cell_type": "code",
   "execution_count": 28,
   "id": "0f9f720b-d4b4-4e66-acc8-f6b8e3ae7ffe",
   "metadata": {},
   "outputs": [
    {
     "name": "stdout",
     "output_type": "stream",
     "text": [
      "Random numbers : [23, 39, 23, 81, 9, 81, 73, 7, 40, 26, 20, 93, 59, 97, 17]\n"
     ]
    }
   ],
   "source": [
    "#19. Create a list of random numbers.\n",
    "\n",
    "import random\n",
    "\n",
    "\n",
    "total_number_of_list = 15\n",
    "\n",
    "min_num = 1\n",
    "\n",
    "max_num = 100\n",
    "\n",
    "random_numbers = [random.randint(min_num,max_num) for i in range(total_number_of_list)]\n",
    "\n",
    "print(\"Random numbers :\",random_numbers)"
   ]
  },
  {
   "cell_type": "code",
   "execution_count": 31,
   "id": "2eeb85b6-2571-40af-9f75-3bc43bddf63f",
   "metadata": {},
   "outputs": [
    {
     "name": "stdout",
     "output_type": "stream",
     "text": [
      "Unique list : [64, 1, 67, 4, 6, 81, 49, 27, 92]\n"
     ]
    }
   ],
   "source": [
    "# 20. Remove duplicates from a list.\n",
    "list_a1 = [1, 4, 49, 64, 81, 4, 92, 6, 27, 67, 64, 49]\n",
    "\n",
    "new_list = list(set(list_a1))\n",
    "\n",
    "print(\"Unique list :\",new_list)"
   ]
  },
  {
   "cell_type": "code",
   "execution_count": 33,
   "id": "aded704a-be55-4d91-895e-74fb76204277",
   "metadata": {},
   "outputs": [
    {
     "name": "stdout",
     "output_type": "stream",
     "text": [
      "Common element list : [81, 4, 2, 8]\n"
     ]
    }
   ],
   "source": [
    "#21. Find the common elements between two lists.\n",
    "list_a2 = [64, 81, 4, 92, 6, 2, 5, 32, 8]\n",
    "list_a3 = [2, 65, 74, 35, 4, 81, 8]\n",
    "\n",
    "common_elements = [element for element in list_a2 if element in list_a3]\n",
    "\n",
    "print(\"Common element list :\",common_elements)"
   ]
  },
  {
   "cell_type": "code",
   "execution_count": 41,
   "id": "2267ed28-367c-4347-8e74-78e83d5f404c",
   "metadata": {},
   "outputs": [
    {
     "name": "stdout",
     "output_type": "stream",
     "text": [
      "Diffrence between lists : [64, 92, 6, 5, 32]\n",
      "Diffrence between lists : [64, 32, 5, 6, 92]\n"
     ]
    }
   ],
   "source": [
    "#22. Find the difference between two lists.\n",
    "\n",
    "list_a4 = [64, 81, 4, 92, 6, 2, 5, 32, 8]\n",
    "list_a5 = [2, 65, 74, 35, 4, 81, 8]\n",
    "\n",
    "diffrent_elements = [element for element in list_a2 if element not in list_a3]\n",
    "\n",
    "print(\"Diffrence between lists :\",diffrent_elements)\n",
    "\n",
    "#second method\n",
    "\n",
    "diffrence = list(set(list_a4).difference(list_a5))\n",
    "\n",
    "print(\"Diffrence between lists :\",diffrence)"
   ]
  },
  {
   "cell_type": "code",
   "execution_count": 2,
   "id": "d7ff624c-3c87-4dc4-9132-4c63c3261b7b",
   "metadata": {},
   "outputs": [
    {
     "name": "stdout",
     "output_type": "stream",
     "text": [
      "Merged list : [5, 6, 2, 3]\n"
     ]
    }
   ],
   "source": [
    "#23. Merge two lists.\n",
    "list_a = [5,6]\n",
    "list_b = [2,3]\n",
    "\n",
    "merge_list = list_a+list_b\n",
    "print(\"Merged list :\",merge_list)"
   ]
  },
  {
   "cell_type": "code",
   "execution_count": 3,
   "id": "86e1ea29-287f-4815-8053-836877f1c0bb",
   "metadata": {},
   "outputs": [
    {
     "name": "stdout",
     "output_type": "stream",
     "text": [
      "[10, 4, 12, 132, 16, 12, 16]\n"
     ]
    }
   ],
   "source": [
    "#24. Multiply all elements in a list by 2.\n",
    "list_a1 = [5,2,6,66,8,6,8]\n",
    "l = []\n",
    "for i in list_a1:\n",
    "    l.append(2*i)\n",
    "print(l)"
   ]
  },
  {
   "cell_type": "code",
   "execution_count": 14,
   "id": "732ac9aa-a7d5-462d-a184-1a7da4b2281f",
   "metadata": {},
   "outputs": [
    {
     "name": "stdout",
     "output_type": "stream",
     "text": [
      "All even numbers : [6, 8, 2, 4, 6, 4, 8, 2]\n"
     ]
    }
   ],
   "source": [
    "#25. Filter out all even numbers from a list.\n",
    "\n",
    "list_a2 = [1,6,8,2,7,3,9,4,9,6,4,8,2,5]\n",
    "\n",
    "l = []\n",
    "\n",
    "for i in list_a2:\n",
    "    if i%2==0:\n",
    "        l.append(i)\n",
    "\n",
    "print(\"All even numbers :\",l)"
   ]
  },
  {
   "cell_type": "code",
   "execution_count": 13,
   "id": "555533e1-eb03-417f-8b20-91a8e258c0e2",
   "metadata": {},
   "outputs": [
    {
     "name": "stdout",
     "output_type": "stream",
     "text": [
      "Integers list : [12, 55, 66, 97]\n"
     ]
    }
   ],
   "source": [
    "#26. Convert a list of strings to a list of integers.\n",
    "\n",
    "list_b = [\"12\",\"55\",\"66\",\"97\"]\n",
    "\n",
    "int_list = [int(i) for i in list_b]\n",
    "\n",
    "print(\"Integers list :\",int_list)"
   ]
  },
  {
   "cell_type": "code",
   "execution_count": 15,
   "id": "fc0b6f65-ca77-4480-a66d-efd3cd50838c",
   "metadata": {},
   "outputs": [
    {
     "name": "stdout",
     "output_type": "stream",
     "text": [
      "List of String : ['12', '55', '66', '97']\n"
     ]
    }
   ],
   "source": [
    "#27. Convert a list of integers to a list of strings.\n",
    "list_b1 = [12, 55, 66, 97]\n",
    "\n",
    "string_list = [str(i) for i in list_b1]\n",
    "\n",
    "print(\"List of String :\",string_list)"
   ]
  },
  {
   "cell_type": "code",
   "execution_count": 26,
   "id": "2ae1a730-4fd6-43b1-b56d-98d751e1b3bc",
   "metadata": {},
   "outputs": [
    {
     "name": "stdout",
     "output_type": "stream",
     "text": [
      "[6, 7, 3, 56, 65, 93, 32, 6, 7, 5]\n"
     ]
    }
   ],
   "source": [
    "#28. Flatten a nested list.\n",
    "nested_list = [[6,7,3],[56,65,93],[32,6,7],5]\n",
    "\n",
    "def flatten_list_(input_list):\n",
    "    \n",
    "    flatten_list = []\n",
    "   \n",
    "    for i in input_list:\n",
    "        \n",
    "        if isinstance(i,list):\n",
    "            \n",
    "            flatten_list.extend(flatten_list_(i))\n",
    "        \n",
    "        else:\n",
    "             \n",
    "           \n",
    "            flatten_list.append(i)\n",
    "    \n",
    "    return flatten_list\n",
    "\n",
    "flatten_list_a = flatten_list_(nested_list)\n",
    "\n",
    "print(flatten_list_a)"
   ]
  },
  {
   "cell_type": "code",
   "execution_count": 12,
   "id": "5ce1ae82-0375-431d-a828-fc9031f30058",
   "metadata": {},
   "outputs": [
    {
     "name": "stdout",
     "output_type": "stream",
     "text": [
      "Fibonacci series for first 10 numbers : [0, 1, 1, 2, 3, 5, 8, 13, 21, 34]\n"
     ]
    }
   ],
   "source": [
    "#29. Create a list of the first 10 Fibonacci numbers.\n",
    "a= 0\n",
    "b= 1\n",
    "n=10\n",
    "\n",
    "fibonacci_numbers = [a, b]\n",
    "\n",
    "\n",
    "for i in range(2, n):\n",
    "    next_fibonacci = fibonacci_numbers[i - 1] + fibonacci_numbers[i - 2]\n",
    "    fibonacci_numbers.append(next_fibonacci)\n",
    "\n",
    "print(\"Fibonacci series for first 10 numbers :\",fibonacci_numbers)"
   ]
  },
  {
   "cell_type": "code",
   "execution_count": 14,
   "id": "e6fa1251-68d0-44f8-b573-75bb3e3c5220",
   "metadata": {},
   "outputs": [
    {
     "name": "stdout",
     "output_type": "stream",
     "text": [
      "The list is sorted in ascending order.\n"
     ]
    }
   ],
   "source": [
    "#30. Check if a list is sorted.\n",
    "list_a1 = [1,2,3]\n",
    "\n",
    "if list_a1 == sorted(list_a1):\n",
    "    print(\"The list is sorted in ascending order.\")   \n",
    "\n",
    "    else:\n",
    "    print(\"The list is not sorted in ascending order.\")"
   ]
  },
  {
   "cell_type": "code",
   "execution_count": 4,
   "id": "c02398a7-fa2b-4f2a-a590-82d45cace228",
   "metadata": {},
   "outputs": [
    {
     "name": "stdout",
     "output_type": "stream",
     "text": [
      "[67, 39, 45, 22, 6, 4, 73, 92, 51, 65, 85, 64, 85, 75]\n"
     ]
    }
   ],
   "source": [
    "#31. Rotate a list to the left by `n` positions.\n",
    "#Sample list\n",
    "list_sample = [51,65,85,64,85,75,67,39,45,22,6,4,73,92]\n",
    "\n",
    "#define n value\n",
    "\n",
    "n = 6\n",
    "\n",
    "#Giving a condition so that we can execute our code properly.\n",
    "\n",
    "if n < len(list_sample):\n",
    "    list_sample = list_sample[n:] + list_sample[:n]\n",
    "    print(list_sample)\n",
    "else:\n",
    "    print(\"Given n value is incorrect or greater  than length og list.\")"
   ]
  },
  {
   "cell_type": "code",
   "execution_count": 26,
   "id": "0762b134-2af3-45f2-a37b-cfd48341aaca",
   "metadata": {},
   "outputs": [
    {
     "name": "stdout",
     "output_type": "stream",
     "text": [
      "[92, 73, 4, 6, 51, 65, 85, 64, 85, 75, 67, 39, 45]\n"
     ]
    }
   ],
   "source": [
    "#32. Rotate a list to the right by `n` positions.\n",
    "list_sample1 = [51,65,85,64,85,75,67,39,45,22,6,4,73,92]\n",
    "\n",
    "#define n value\n",
    "\n",
    "n = 4\n",
    "\n",
    "#Giving a condition so that we can execute our code properly.\n",
    "\n",
    "if n < len(list_sample1):\n",
    "    list_sample1 = list_sample1[:-n-1:-1]+list_sample1[:-n-1:]\n",
    "    print(list_sample1)\n",
    "else:\n",
    "    print(\"Given n value is incorrect or greater  than length og list.\")"
   ]
  },
  {
   "cell_type": "code",
   "execution_count": 1,
   "id": "fcb198fc-a1d8-42ae-a734-c88fd951c881",
   "metadata": {},
   "outputs": [
    {
     "name": "stdout",
     "output_type": "stream",
     "text": [
      "[2, 3, 5, 7, 11, 13, 17, 19, 23, 29, 31, 37, 41, 43, 47]\n"
     ]
    }
   ],
   "source": [
    "#33. Create a list of prime numbers up to 50.\n",
    "def is_prime(number):\n",
    "    if number <= 1:\n",
    "        return False\n",
    "    if number <= 3:\n",
    "        return True\n",
    "    if number % 2 == 0 or number % 3 == 0:\n",
    "        return False\n",
    "    i = 5\n",
    "    while i * i <= number:\n",
    "        if number % i == 0 or number % (i + 2) == 0:\n",
    "            return False\n",
    "        i += 6\n",
    "    return True\n",
    "\n",
    "prime_numbers = [2, 3, 5, 7]  # Initialize with the first few prime numbers\n",
    "\n",
    "for num in range(11, 51):  # Start from 11 because we've already added primes up to 7\n",
    "    if is_prime(num):\n",
    "        prime_numbers.append(num)\n",
    "\n",
    "print(prime_numbers)"
   ]
  },
  {
   "cell_type": "code",
   "execution_count": 2,
   "id": "30cccab0-010e-4fe1-8b2e-0e79cbac3510",
   "metadata": {},
   "outputs": [
    {
     "name": "stdout",
     "output_type": "stream",
     "text": [
      "[1, 2, 3]\n",
      "[4, 5, 6]\n",
      "[7, 8, 9]\n",
      "[10]\n"
     ]
    }
   ],
   "source": [
    "#34. Split a list into chunks of size `n`.\n",
    "def split_into_chunks(input_list, n):\n",
    "    for i in range(0, len(input_list), n):\n",
    "        yield input_list[i:i + n]\n",
    "\n",
    "# Example usage:\n",
    "my_list = [1, 2, 3, 4, 5, 6, 7, 8, 9, 10]\n",
    "chunk_size = 3\n",
    "\n",
    "chunks = list(split_into_chunks(my_list, chunk_size))\n",
    "\n",
    "for chunk in chunks:\n",
    "    print(chunk)"
   ]
  },
  {
   "cell_type": "code",
   "execution_count": 3,
   "id": "be71bffa-1575-45b0-ba29-1471d099fff2",
   "metadata": {},
   "outputs": [
    {
     "name": "stdout",
     "output_type": "stream",
     "text": [
      "Result: 8\n"
     ]
    }
   ],
   "source": [
    "#35. Find the second largest number in a list.\n",
    "\n",
    "def second_largest(numbers):\n",
    "    if len(numbers) < 2:\n",
    "        return \"The list has less than two elements.\"\n",
    "\n",
    "    largest = second = float('-inf')\n",
    "\n",
    "    for number in numbers:\n",
    "        if number > largest:\n",
    "            second = largest\n",
    "            largest = number\n",
    "        elif number > second and number != largest:\n",
    "            second = number\n",
    "\n",
    "    if second == float('-inf'):\n",
    "        return \"There is no second largest number.\"\n",
    "    else:\n",
    "        return second\n",
    "\n",
    "# Example usage:\n",
    "my_list = [4, 2, 9, 7, 5, 8]\n",
    "result = second_largest(my_list)\n",
    "\n",
    "print(\"Result:\", result)"
   ]
  },
  {
   "cell_type": "code",
   "execution_count": 4,
   "id": "46a1f113-a164-4db8-ad40-6f49ed84e88a",
   "metadata": {},
   "outputs": [
    {
     "name": "stdout",
     "output_type": "stream",
     "text": [
      "[1, 4, 9, 16, 25]\n"
     ]
    }
   ],
   "source": [
    "#36. Replace every element in a list with its square.\n",
    "original_list = [1, 2, 3, 4, 5]\n",
    "\n",
    "squared_list = [x ** 2 for x in original_list]\n",
    "\n",
    "print(squared_list)"
   ]
  },
  {
   "cell_type": "code",
   "execution_count": 5,
   "id": "862a604f-8aae-40df-863c-ff51b58eb397",
   "metadata": {},
   "outputs": [
    {
     "name": "stdout",
     "output_type": "stream",
     "text": [
      "{'apple': 0, 'banana': 1, 'cherry': 2, 'date': 3}\n"
     ]
    }
   ],
   "source": [
    "#37. Convert a list to a dictionary where list elements become keys and their\n",
    "#indices become values.\n",
    "\n",
    "my_list = [\"apple\", \"banana\", \"cherry\", \"date\"]\n",
    "\n",
    "# Using a dictionary comprehension\n",
    "result_dict = {element: index for index, element in enumerate(my_list)}\n",
    "\n",
    "print(result_dict)"
   ]
  },
  {
   "cell_type": "code",
   "execution_count": 8,
   "id": "fb0ee401-bd92-4dee-b5f7-9df189e56507",
   "metadata": {},
   "outputs": [
    {
     "name": "stdout",
     "output_type": "stream",
     "text": [
      "[5, 1, 2, 4, 3]\n"
     ]
    }
   ],
   "source": [
    "#38. Shuffle the elements of a list randomly\n",
    "import random\n",
    "\n",
    "my_list = [1, 2, 3, 4, 5]\n",
    "\n",
    "random.shuffle(my_list)\n",
    "\n",
    "print(my_list)"
   ]
  },
  {
   "cell_type": "code",
   "execution_count": 13,
   "id": "79528aef-2359-477a-a187-96f37522bd3e",
   "metadata": {},
   "outputs": [
    {
     "name": "stdout",
     "output_type": "stream",
     "text": [
      "[1, 1, 2, 6, 24, 120, 720, 5040, 40320, 362880]\n"
     ]
    }
   ],
   "source": [
    "#39. Create a list of the first 10 factorial numbers\n",
    "\n",
    "#Function to calculate factorial\n",
    "def factorial(n):\n",
    "    if n == 0:\n",
    "        return 1\n",
    "    else:\n",
    "        return n * factorial(n - 1)\n",
    "\n",
    "# Create a list of the first 10 factorial numbers\n",
    "factorial_list = [factorial(n) for n in range(10)]\n",
    "\n",
    "print(factorial_list)"
   ]
  },
  {
   "cell_type": "code",
   "execution_count": 14,
   "id": "1657931f-4b7f-4231-832b-4317f8ade75a",
   "metadata": {},
   "outputs": [
    {
     "name": "stdout",
     "output_type": "stream",
     "text": [
      "The two lists have at least one element in common.\n"
     ]
    }
   ],
   "source": [
    "#40. Check if two lists have at least one element in common.\n",
    "def have_common_element(list1, list2):\n",
    "    for item in list1:\n",
    "        if item in list2:\n",
    "            return True\n",
    "    return False\n",
    "\n",
    "# Example usage:\n",
    "list1 = [1, 2, 3, 4, 5]\n",
    "list2 = [4, 5, 6, 7, 8]\n",
    "\n",
    "if have_common_element(list1, list2):\n",
    "    print(\"The two lists have at least one element in common.\")\n",
    "else:\n",
    "    print(\"The two lists have no common elements.\")"
   ]
  },
  {
   "cell_type": "code",
   "execution_count": 18,
   "id": "dc593614-3f30-4b4f-88c0-1a4827840515",
   "metadata": {},
   "outputs": [
    {
     "name": "stdout",
     "output_type": "stream",
     "text": [
      "[]\n"
     ]
    }
   ],
   "source": [
    "#41. Remove all elements from a list.\n",
    "my_list = [1, 2, 3, 4, 5]\n",
    "my_list.clear()\n",
    "print(my_list)"
   ]
  },
  {
   "cell_type": "code",
   "execution_count": 19,
   "id": "adba96d5-d14b-4077-9174-113f659dde31",
   "metadata": {},
   "outputs": [
    {
     "name": "stdout",
     "output_type": "stream",
     "text": [
      "[1, 0, 3, 0, 5]\n"
     ]
    }
   ],
   "source": [
    "#42. Replace negative numbers in a list with 0.\n",
    "original_list = [1, -2, 3, -4, 5]\n",
    "\n",
    "# Replace negative numbers with 0 using a list comprehension\n",
    "modified_list = [0 if x < 0 else x for x in original_list]\n",
    "\n",
    "print(modified_list)"
   ]
  },
  {
   "cell_type": "code",
   "execution_count": 20,
   "id": "4b178fb6-c6e6-4335-8259-20555e38888c",
   "metadata": {},
   "outputs": [
    {
     "name": "stdout",
     "output_type": "stream",
     "text": [
      "['This', 'is', 'a', 'sample', 'sentence.']\n"
     ]
    }
   ],
   "source": [
    "#43. Convert a string into a list of words.\n",
    "text = \"This is a sample sentence.\"\n",
    "\n",
    "# Split the string into words using split()\n",
    "word_list = text.split()\n",
    "\n",
    "print(word_list)"
   ]
  },
  {
   "cell_type": "code",
   "execution_count": 21,
   "id": "3d5a9d52-88d7-42e3-b529-a8e8c67892e9",
   "metadata": {},
   "outputs": [
    {
     "name": "stdout",
     "output_type": "stream",
     "text": [
      "This is a list of words\n"
     ]
    }
   ],
   "source": [
    "#44. Convert a list of words into a string.\n",
    "word_list = [\"This\", \"is\", \"a\", \"list\", \"of\", \"words\"]\n",
    "\n",
    "# Convert the list of words into a string using join()\n",
    "text = \" \".join(word_list)\n",
    "\n",
    "print(text)"
   ]
  },
  {
   "cell_type": "code",
   "execution_count": 23,
   "id": "9e818352-0789-470b-b3a5-cadbcc16e988",
   "metadata": {},
   "outputs": [
    {
     "name": "stdout",
     "output_type": "stream",
     "text": [
      "[1, 2, 4, 8, 16, 32]\n"
     ]
    }
   ],
   "source": [
    "#45. Create a list of the first `n` powers of 2.\n",
    "n = 6# Replace with the desired number of powers\n",
    "\n",
    "# Create a list of the first n powers of 2 using list comprehension\n",
    "powers_of_2 = [2 ** i for i in range(n)]\n",
    "\n",
    "print(powers_of_2)"
   ]
  },
  {
   "cell_type": "code",
   "execution_count": 24,
   "id": "dc764dfe-743d-4394-8768-f9f21a7d0623",
   "metadata": {},
   "outputs": [
    {
     "name": "stdout",
     "output_type": "stream",
     "text": [
      "elderberry\n"
     ]
    }
   ],
   "source": [
    "#46. Find the longest string in a list of strings\n",
    "string_list = [\"apple\", \"banana\", \"cherry\", \"date\", \"elderberry\"]\n",
    "\n",
    "# Find the longest string in the list\n",
    "longest_string = max(string_list, key=len)\n",
    "\n",
    "print(longest_string)"
   ]
  },
  {
   "cell_type": "code",
   "execution_count": 25,
   "id": "96094cb6-9802-4417-9ec5-e8437617b6d9",
   "metadata": {},
   "outputs": [
    {
     "name": "stdout",
     "output_type": "stream",
     "text": [
      "date\n"
     ]
    }
   ],
   "source": [
    "#47. Find the shortest string in a list of strings.\n",
    "string_list = [\"apple\", \"banana\", \"cherry\", \"date\", \"elderberry\"]\n",
    "\n",
    "# Find the shortest string in the list\n",
    "shortest_string = min(string_list, key=len)\n",
    "\n",
    "print(shortest_string)"
   ]
  },
  {
   "cell_type": "code",
   "execution_count": 26,
   "id": "4fa780ae-38a8-47a3-ae76-44e4dd4bfd58",
   "metadata": {},
   "outputs": [
    {
     "name": "stdout",
     "output_type": "stream",
     "text": [
      "[1, 3, 6, 10, 15]\n"
     ]
    }
   ],
   "source": [
    "#48. Create a list of the first `n` triangular numbers.\n",
    "n = 5  # Replace with the desired number of triangular numbers\n",
    "\n",
    "triangular_numbers = []\n",
    "sum = 0\n",
    "\n",
    "for i in range(1, n + 1):\n",
    "    sum += i\n",
    "    triangular_numbers.append(sum)\n",
    "\n",
    "print(triangular_numbers)"
   ]
  },
  {
   "cell_type": "code",
   "execution_count": 27,
   "id": "3641d225-102c-4d88-bacf-68e4663c3bd5",
   "metadata": {},
   "outputs": [
    {
     "name": "stdout",
     "output_type": "stream",
     "text": [
      "The sub-list is a subsequence of the main list.\n"
     ]
    }
   ],
   "source": [
    "#49. Check if a list contains another list as a subsequence.\n",
    "def is_subsequence(sub, main):\n",
    "    sub_len, main_len = len(sub), len(main)\n",
    "    i = j = 0\n",
    "\n",
    "    while i < sub_len and j < main_len:\n",
    "        if sub[i] == main[j]:\n",
    "            i += 1\n",
    "        j += 1\n",
    "\n",
    "    return i == sub_len\n",
    "\n",
    "# Example usage:\n",
    "main_list = [1, 2, 3, 4, 5, 6, 7, 8]\n",
    "sub_list = [2, 4, 6]\n",
    "\n",
    "if is_subsequence(sub_list, main_list):\n",
    "    print(\"The sub-list is a subsequence of the main list.\")\n",
    "else:\n",
    "    print(\"The sub-list is not a subsequence of the main list.\")"
   ]
  },
  {
   "cell_type": "code",
   "execution_count": 28,
   "id": "172f0fcd-c280-488b-aa4e-ac74b1915a6f",
   "metadata": {},
   "outputs": [
    {
     "name": "stdout",
     "output_type": "stream",
     "text": [
      "[1, 4, 3, 2, 5]\n"
     ]
    }
   ],
   "source": [
    "#50. Swap two elements in a list by their indices\n",
    "def swap_elements(lst, index1, index2):\n",
    "    # Check if the indices are valid\n",
    "    if 0 <= index1 < len(lst) and 0 <= index2 < len(lst):\n",
    "        # Swap the elements\n",
    "        lst[index1], lst[index2] = lst[index2], lst[index1]\n",
    "    else:\n",
    "        print(\"Invalid indices for swapping.\")\n",
    "\n",
    "# Example usage:\n",
    "my_list = [1, 2, 3, 4, 5]\n",
    "\n",
    "# Swap elements at indices 1 and 3\n",
    "swap_elements(my_list, 1, 3)\n",
    "\n",
    "print(my_list)  # The list with swapped elements"
   ]
  },
  {
   "cell_type": "markdown",
   "id": "b0a76a4f-c592-4068-8124-63a7837b3e78",
   "metadata": {},
   "source": [
    "Tuple Based Practice Problem :"
   ]
  },
  {
   "cell_type": "code",
   "execution_count": 5,
   "id": "5057b209-0eaa-468f-8992-b510e737b0a6",
   "metadata": {},
   "outputs": [
    {
     "name": "stdout",
     "output_type": "stream",
     "text": [
      "(1, 2, 3, 4, 5)\n"
     ]
    }
   ],
   "source": [
    "#1. Create a tuple with integers from 1 to 5\n",
    "tuple_int = tuple(range(1,6))\n",
    "print(tuple_int)"
   ]
  },
  {
   "cell_type": "code",
   "execution_count": 8,
   "id": "a8944542-7dd0-46da-875e-91524363acb6",
   "metadata": {},
   "outputs": [
    {
     "data": {
      "text/plain": [
       "3"
      ]
     },
     "execution_count": 8,
     "metadata": {},
     "output_type": "execute_result"
    }
   ],
   "source": [
    "#2. Access the third element of a tuple\n",
    "tuple_ = (1,2,3,4,5)\n",
    "tuple_[2]"
   ]
  },
  {
   "cell_type": "code",
   "execution_count": 14,
   "id": "94e7814e-c707-4b02-a098-c06bc92b6a91",
   "metadata": {},
   "outputs": [
    {
     "name": "stdout",
     "output_type": "stream",
     "text": [
      "Length of the tuple: 5\n"
     ]
    }
   ],
   "source": [
    "#3. Find the length of a tuple without using the `len()` function.\n",
    "my_tuple = (1, 2, 3, 4, 5)\n",
    "length = 0\n",
    "\n",
    "for _ in my_tuple:\n",
    "    length += 1\n",
    "\n",
    "print(\"Length of the tuple:\", length)"
   ]
  },
  {
   "cell_type": "code",
   "execution_count": 16,
   "id": "f01e4d89-b561-4539-9344-2db0ca86e63f",
   "metadata": {},
   "outputs": [
    {
     "name": "stdout",
     "output_type": "stream",
     "text": [
      "5\n"
     ]
    }
   ],
   "source": [
    "#4. Count the occurrences of an element in a tuple.\n",
    "tuple_d = (6,6,7,6,9,4,2,1,3,8,6,6)\n",
    "element_a = 6\n",
    "count = 0\n",
    "for i in tuple_d:\n",
    "    if i == element_a:\n",
    "        count += 1\n",
    "print(count)"
   ]
  },
  {
   "cell_type": "code",
   "execution_count": 3,
   "id": "5e0f9a38-6f31-4010-aed6-a25b7d4744d4",
   "metadata": {},
   "outputs": [
    {
     "name": "stdout",
     "output_type": "stream",
     "text": [
      "The first occurrence of 20 is at index 1.\n"
     ]
    }
   ],
   "source": [
    "#5. Find the index of the first occurrence of an element in a tuple.\n",
    "my_tuple = (10, 20, 30, 40, 50, 20)  # Example tuple\n",
    "element_to_find = 20  # The element you want to find\n",
    "\n",
    "if element_to_find in my_tuple:\n",
    "    index = my_tuple.index(element_to_find)\n",
    "    print(f\"The first occurrence of {element_to_find} is at index {index}.\")\n",
    "else:\n",
    "    print(f\"{element_to_find} is not in the tuple.\")"
   ]
  },
  {
   "cell_type": "code",
   "execution_count": 6,
   "id": "75262ea8-a84b-466c-9199-a2992fc467a0",
   "metadata": {},
   "outputs": [
    {
     "name": "stdout",
     "output_type": "stream",
     "text": [
      "This element exist in a tuple\n"
     ]
    }
   ],
   "source": [
    "#6. Check if an element exists in a tuple.\n",
    "tuple_s = (5,6,7,9,3,1,2,4,5)\n",
    "element_a = 5\n",
    "\n",
    "if element_a in tuple_s:\n",
    "    print(\"This element exist in a tuple\")\n",
    "else:\n",
    "    print(\"This element does not exist in s tuple\")"
   ]
  },
  {
   "cell_type": "code",
   "execution_count": 9,
   "id": "d931a72d-ec65-48d9-94ea-5bea48967fe0",
   "metadata": {},
   "outputs": [
    {
     "name": "stdout",
     "output_type": "stream",
     "text": [
      "[5, 6, 7, 3, 9, 7, 1, 6, 4, 8]\n"
     ]
    }
   ],
   "source": [
    "#7. Convert a tuple to a list.\n",
    "tuple_s = (5,6,7,3,9,7,1,6,4,8)\n",
    "\n",
    "list_a = list(tuple_s)\n",
    "\n",
    "print(list_a)"
   ]
  },
  {
   "cell_type": "code",
   "execution_count": 10,
   "id": "0577017c-9331-4105-bc64-3a0cbd15dc30",
   "metadata": {},
   "outputs": [
    {
     "name": "stdout",
     "output_type": "stream",
     "text": [
      "(5, 6, 7, 3, 9, 7, 1, 6, 4, 8)\n"
     ]
    }
   ],
   "source": [
    "#8. Convert a list to a tuple.\n",
    "\n",
    "list_v = [5,6,7,3,9,7,1,6,4,8]\n",
    "\n",
    "converted_list = tuple(list_v)\n",
    "\n",
    "print(converted_list)"
   ]
  },
  {
   "cell_type": "code",
   "execution_count": 1,
   "id": "756d51b4-14c2-4290-9199-db35744a2c2f",
   "metadata": {},
   "outputs": [
    {
     "name": "stdout",
     "output_type": "stream",
     "text": [
      "variable1: 10\n",
      "variable2: 20\n",
      "variable3: 30\n"
     ]
    }
   ],
   "source": [
    "#9. Unpack the elements of a tuple into variables.\n",
    "my_tuple = (10, 20, 30)\n",
    "variable1, variable2, variable3 = my_tuple\n",
    "\n",
    "print(\"variable1:\", variable1)\n",
    "print(\"variable2:\", variable2)\n",
    "print(\"variable3:\", variable3)"
   ]
  },
  {
   "cell_type": "code",
   "execution_count": 16,
   "id": "62fff140-58a9-4fa3-810d-09ee7a16d33a",
   "metadata": {},
   "outputs": [
    {
     "name": "stdout",
     "output_type": "stream",
     "text": [
      "(2, 4, 6, 8, 10)\n"
     ]
    }
   ],
   "source": [
    "#10. Create a tuple of even numbers from 1 to 10.\n",
    "\n",
    "even_no =  tuple(i for i in range(1,11) if i%2 ==0)\n",
    "\n",
    "print(even_no)"
   ]
  },
  {
   "cell_type": "code",
   "execution_count": 17,
   "id": "391d9d32-745f-472c-bbb2-833f3b836d97",
   "metadata": {},
   "outputs": [
    {
     "name": "stdout",
     "output_type": "stream",
     "text": [
      "(1, 3, 5, 7, 9)\n"
     ]
    }
   ],
   "source": [
    "#11. Create a tuple of odd numbers from 1 to 10\n",
    "odd_no =  tuple(i for i in range(1,11) if i%2 !=0)\n",
    "\n",
    "print(odd_no)"
   ]
  },
  {
   "cell_type": "code",
   "execution_count": 18,
   "id": "62959a07-c507-43c5-b75f-265134876df6",
   "metadata": {},
   "outputs": [
    {
     "name": "stdout",
     "output_type": "stream",
     "text": [
      "(6, 6, 8, 2, 3, 8, 7, 6, 5, 6, 8, 6, 7, 2, 6)\n"
     ]
    }
   ],
   "source": [
    "#12. Concatenate two tuples.\n",
    "tuple_a = (6,6,8,2,3,8,7,6)\n",
    "\n",
    "tuple_b = (5,6,8,6,7,2,6)\n",
    "\n",
    "tuple_ab = tuple_a+tuple_b\n",
    "\n",
    "print(tuple_ab)"
   ]
  },
  {
   "cell_type": "code",
   "execution_count": 19,
   "id": "ae315d27-e015-4410-bd04-a02a57da8e65",
   "metadata": {},
   "outputs": [
    {
     "name": "stdout",
     "output_type": "stream",
     "text": [
      "(5, 6, 8, 2, 6, 6, 8, 5, 6, 8, 2, 6, 6, 8, 5, 6, 8, 2, 6, 6, 8)\n"
     ]
    }
   ],
   "source": [
    "#13. Repeat a tuple three times\n",
    "tuple_c = (5,6,8,2,6,6,8)\n",
    "\n",
    "three_time = 3*tuple_c\n",
    "\n",
    "print(three_time)"
   ]
  },
  {
   "cell_type": "code",
   "execution_count": 25,
   "id": "e0a087e8-0347-4f02-9cea-82e5a54d15be",
   "metadata": {},
   "outputs": [
    {
     "name": "stdout",
     "output_type": "stream",
     "text": [
      "This tuple is Empty\n"
     ]
    }
   ],
   "source": [
    "#14. Check if a tuple is empty.\n",
    "empty_tuple = ()\n",
    "\n",
    "if len(empty_tuple)==0:\n",
    "    print(\"This tuple is Empty\")\n",
    "else:\n",
    "    print(\"This tuple does not Empty\")"
   ]
  },
  {
   "cell_type": "code",
   "execution_count": 27,
   "id": "b4982127-48ea-44ed-af92-0b10134e9ca7",
   "metadata": {},
   "outputs": [
    {
     "name": "stdout",
     "output_type": "stream",
     "text": [
      "Nested tuple: ((1, 2, 3), ('a', 'b', 'c'), (True, False))\n"
     ]
    }
   ],
   "source": [
    "#15. Create a nested tuple.\n",
    "nested_tuple = ((1, 2, 3), ('a', 'b', 'c'), (True, False))\n",
    "\n",
    "\n",
    "print(\"Nested tuple:\", nested_tuple)"
   ]
  },
  {
   "cell_type": "code",
   "execution_count": 28,
   "id": "c2c48272-77ff-4a2b-82b0-94d3c033ccfd",
   "metadata": {},
   "outputs": [
    {
     "name": "stdout",
     "output_type": "stream",
     "text": [
      "First element of the nested tuple: (1, 2, 3)\n"
     ]
    }
   ],
   "source": [
    "#16. Access the first element of a nested tuple.\n",
    "\n",
    "nested_tuple = ((1, 2, 3), ('a', 'b', 'c'), (True, False))\n",
    "\n",
    "# Step 2: Access the first element of the nested tuple\n",
    "first_element = nested_tuple[0]\n",
    "\n",
    "# Step 3: Print the first element\n",
    "print(\"First element of the nested tuple:\", first_element)"
   ]
  },
  {
   "cell_type": "code",
   "execution_count": 2,
   "id": "15200345-dd15-4df7-851f-0919ccfe6333",
   "metadata": {},
   "outputs": [
    {
     "name": "stdout",
     "output_type": "stream",
     "text": [
      "(1,)\n"
     ]
    }
   ],
   "source": [
    "#17. Create a tuple with a single element.\n",
    "single_element_tuple = (1,)\n",
    "print(single_element_tuple)"
   ]
  },
  {
   "cell_type": "code",
   "execution_count": 4,
   "id": "c6fabe79-8a5e-4d41-858f-cb9e83b37741",
   "metadata": {},
   "outputs": [
    {
     "name": "stdout",
     "output_type": "stream",
     "text": [
      "tuple1 == tuple2: False\n",
      "tuple1 != tuple2: True\n",
      "tuple1 < tuple2: True\n",
      "tuple1 <= tuple2: True\n",
      "tuple1 > tuple2: False\n",
      "tuple1 >= tuple2: False\n"
     ]
    }
   ],
   "source": [
    "#18. Compare two tuples.\n",
    "tuple1 = (85,5,5,47)\n",
    "tuple2 = (85,5,5,48)\n",
    "\n",
    "# Step 2: Compare the two tuples using comparison operators\n",
    "print(\"tuple1 == tuple2:\", tuple1 == tuple2)  # Equality check\n",
    "print(\"tuple1 != tuple2:\", tuple1 != tuple2)  # Inequality check\n",
    "print(\"tuple1 < tuple2:\", tuple1 < tuple2)    # Less than check\n",
    "print(\"tuple1 <= tuple2:\", tuple1 <= tuple2)  # Less than or equal to check\n",
    "print(\"tuple1 > tuple2:\", tuple1 > tuple2)    # Greater than check\n",
    "print(\"tuple1 >= tuple2:\", tuple1 >= tuple2)  # Greater than or equal to check"
   ]
  },
  {
   "cell_type": "code",
   "execution_count": 12,
   "id": "6efc1e64-f31c-462d-9464-bc48e61a88f6",
   "metadata": {},
   "outputs": [],
   "source": [
    "#19. Delete a tuple.\n",
    "tuple_1 = (4,6,8,2,6,41)\n",
    "\n",
    "del tuple_1\n",
    "try:\n",
    "    print(tuple_1)\n",
    "except:\n",
    "     pass"
   ]
  },
  {
   "cell_type": "code",
   "execution_count": 14,
   "id": "51100a56-e562-4262-a16a-56bbd0d885f2",
   "metadata": {},
   "outputs": [
    {
     "name": "stdout",
     "output_type": "stream",
     "text": [
      "(4, 5, 6)\n"
     ]
    }
   ],
   "source": [
    "#20. Slice a tuple.\n",
    "tuple_ab = (1,2,3,4,5,6,7,8,9)\n",
    "sliced_tuple = tuple_ab[3:6]\n",
    "\n",
    "print(sliced_tuple)\n"
   ]
  },
  {
   "cell_type": "code",
   "execution_count": 15,
   "id": "e0a2a7da-68f3-4b74-bb62-67fea8637feb",
   "metadata": {},
   "outputs": [
    {
     "name": "stdout",
     "output_type": "stream",
     "text": [
      "Maximum value: 45\n"
     ]
    }
   ],
   "source": [
    "#21. Find the maximum value in a tuple\n",
    "\n",
    "my_tuple = (10, 20, 5, 45, 30)\n",
    "\n",
    "max_value = max(my_tuple)\n",
    "\n",
    "\n",
    "print(\"Maximum value:\", max_value)"
   ]
  },
  {
   "cell_type": "code",
   "execution_count": null,
   "id": "12d3ca19-5937-4c35-909d-77620410d992",
   "metadata": {},
   "outputs": [],
   "source": [
    "#22. Find the minimum value in a tuple.\n",
    "\n",
    "my_tuple = (10, 20, 5, 45, 30)\n",
    "\n",
    "min_value = min(my_tuple)\n",
    "\n",
    "\n",
    "print(\"Maimum value:\", max_value)"
   ]
  },
  {
   "cell_type": "code",
   "execution_count": 18,
   "id": "afe002b9-8efb-4b76-88ef-086ed8197680",
   "metadata": {},
   "outputs": [
    {
     "name": "stdout",
     "output_type": "stream",
     "text": [
      "Tuple of characters: ('H', 'e', 'y', ',', 'H', 'o', 'w', ' ', 'a', 'r', 'e', ' ', 'y', 'o', 'u', '.')\n"
     ]
    }
   ],
   "source": [
    "#23. Convert a string to a tuple of characters.\n",
    "string_a = \"Hey,How are you.\"\n",
    "\n",
    "tupled_string = tuple(string_a)\n",
    "\n",
    "print(\"Tuple of characters:\",tupled_string)"
   ]
  },
  {
   "cell_type": "code",
   "execution_count": 22,
   "id": "d8dee322-ca6d-4211-abe4-5557bcc4334a",
   "metadata": {},
   "outputs": [
    {
     "name": "stdout",
     "output_type": "stream",
     "text": [
      "String from tuple: Hello World\n"
     ]
    }
   ],
   "source": [
    "#24. Convert a tuple of characters to a string.\n",
    "tuple_b = (\"H\",\"e\",\"l\",\"l\",\"o\",\" \",\"W\",\"o\",\"r\",\"l\",\"d\")\n",
    "\n",
    "string_tuple = \"\".join(tuple_b)\n",
    "\n",
    "print(\"String from tuple:\",string_tuple)"
   ]
  },
  {
   "cell_type": "code",
   "execution_count": 23,
   "id": "efa29306-1985-4b09-915d-4e6204ca7668",
   "metadata": {},
   "outputs": [
    {
     "name": "stdout",
     "output_type": "stream",
     "text": [
      "(1, 1.1, True, 'HELLO')\n"
     ]
    }
   ],
   "source": [
    "#25. Create a tuple from multiple data types\n",
    "multiple_types = (1,1.1,True,\"HELLO\")\n",
    "\n",
    "tuple_d = tuple(multiple_types)\n",
    "\n",
    "print(tuple_d)"
   ]
  },
  {
   "cell_type": "code",
   "execution_count": 25,
   "id": "04879bcd-8cbf-4f5c-89a1-b35c4d0dcb57",
   "metadata": {},
   "outputs": [
    {
     "name": "stdout",
     "output_type": "stream",
     "text": [
      "tuple1 and tuple2 are identical: True\n",
      "tuple1 and tuple3 are identical: False\n"
     ]
    }
   ],
   "source": [
    "#26. Check if two tuples are identical\n",
    "tuple1 = (1, 2, 3)\n",
    "tuple2 = (1, 2, 3)\n",
    "tuple3 = (4, 5, 6)\n",
    "\n",
    "# Step 2: Compare the tuples for identity using the equality operator\n",
    "are_identical1 = tuple1 == tuple2\n",
    "are_identical2 = tuple1 == tuple3\n",
    "\n",
    "# Step 3: Print the results\n",
    "print(\"tuple1 and tuple2 are identical:\", are_identical1)\n",
    "print(\"tuple1 and tuple3 are identical:\", are_identical2)"
   ]
  },
  {
   "cell_type": "code",
   "execution_count": 29,
   "id": "3286275b-95d1-40a9-b243-6c1587fd5a99",
   "metadata": {},
   "outputs": [
    {
     "name": "stdout",
     "output_type": "stream",
     "text": [
      "(1, 2, 2, 3, 4, 5, 6, 7, 8, 9)\n"
     ]
    }
   ],
   "source": [
    "#27. Sort the elements of a tuple.\n",
    "tuple_z = (2,6,4,8,9,7,2,3,1,5)\n",
    "\n",
    "sorted_tuple = tuple(sorted(tuple_z))\n",
    "\n",
    "print(sorted_tuple)"
   ]
  },
  {
   "cell_type": "code",
   "execution_count": 33,
   "id": "abed6260-2afb-413c-8cc1-4c096edaab04",
   "metadata": {},
   "outputs": [
    {
     "name": "stdout",
     "output_type": "stream",
     "text": [
      "('1', '2', '3', '4', '5', '6', '7', '8')\n"
     ]
    }
   ],
   "source": [
    "#28. Convert a tuple of integers to a tuple of strings.\n",
    "tuple_int = (1,2,3,4,5,6,7,8)\n",
    "\n",
    "\n",
    "tuple_str = tuple(str(i) for i in  tuple_int)\n",
    "\n",
    "print(tuple_str)"
   ]
  },
  {
   "cell_type": "code",
   "execution_count": 35,
   "id": "b6910ba5-3ff8-46e8-9bb1-ae1490a7685b",
   "metadata": {},
   "outputs": [
    {
     "name": "stdout",
     "output_type": "stream",
     "text": [
      "(1, 2, 3)\n"
     ]
    }
   ],
   "source": [
    "#29. Convert a tuple of strings to a tuple of integers.\n",
    "tuple_str = (\"1\",\"2\",\"3\")\n",
    "\n",
    "tuple_int = tuple(int(i) for i in tuple_str)\n",
    "\n",
    "print(tuple_int)"
   ]
  },
  {
   "cell_type": "code",
   "execution_count": 36,
   "id": "86c6b51c-db34-4559-96e0-275f45f05cf5",
   "metadata": {},
   "outputs": [
    {
     "name": "stdout",
     "output_type": "stream",
     "text": [
      "(1, 2, 3, 4, 5, 6, 7, 8, 9, 10, 11)\n"
     ]
    }
   ],
   "source": [
    "#30. Merge two tuples.\n",
    "tuple_A = (1,2,3,4,5,6)\n",
    "\n",
    "tuple_B = (7,8,9,10,11)\n",
    "\n",
    "tuple_A_B = tuple_A + tuple_B\n",
    "\n",
    "print(tuple_A_B)"
   ]
  },
  {
   "cell_type": "code",
   "execution_count": 38,
   "id": "ba75fd51-7d42-4346-9284-1bb34bef3a2a",
   "metadata": {},
   "outputs": [
    {
     "name": "stdout",
     "output_type": "stream",
     "text": [
      "Flattened tuple: (2, 3, 5, 7, 8, 9, 1, 8)\n"
     ]
    }
   ],
   "source": [
    "#31. Flatten a nested tuple\n",
    "def flatten_tuple(nested_tuple):\n",
    "    flattened = []\n",
    "    for item in nested_tuple:\n",
    "        if isinstance(item, tuple):\n",
    "            flattened.extend(flatten_tuple(item))\n",
    "        else:\n",
    "            flattened.append(item)\n",
    "    return flattened\n",
    "\n",
    "nested_tuple = ((2, 3), (5, 7, 8), (9, (1, 8)))\n",
    "\n",
    "flattened_tuple = tuple(flatten_tuple(nested_tuple))\n",
    "\n",
    "print(\"Flattened tuple:\", flattened_tuple)"
   ]
  },
  {
   "cell_type": "code",
   "execution_count": 39,
   "id": "4cfd28ba-0b28-4b32-905c-e9a825843d50",
   "metadata": {},
   "outputs": [
    {
     "name": "stdout",
     "output_type": "stream",
     "text": [
      "Tuple of the first 5 prime numbers: (2, 3, 5, 7, 11)\n"
     ]
    }
   ],
   "source": [
    "#32. Create a tuple of the first 5 prime numbers\n",
    "def is_prime(num):\n",
    "    if num <= 1:\n",
    "        return False\n",
    "    for i in range(2, int(num ** 0.5) + 1):\n",
    "        if num % i == 0:\n",
    "            return False\n",
    "    return True\n",
    "\n",
    "# Generate the first 5 prime numbers\n",
    "prime_numbers_list = [num for num in range(2, 100) if is_prime(num)][:5]\n",
    "\n",
    "# Convert the list to a tuple\n",
    "prime_numbers_tuple = tuple(prime_numbers_list)\n",
    "\n",
    "# Print the tuple of prime numbers\n",
    "print(\"Tuple of the first 5 prime numbers:\", prime_numbers_tuple)"
   ]
  },
  {
   "cell_type": "code",
   "execution_count": 40,
   "id": "67611f77-b3eb-4736-84b9-6150dbe38f5b",
   "metadata": {},
   "outputs": [
    {
     "name": "stdout",
     "output_type": "stream",
     "text": [
      "palindrome_tuple is a palindrome: True\n",
      "non_palindrome_tuple is a palindrome: False\n"
     ]
    }
   ],
   "source": [
    "#33. Check if a tuple is a palindrome.\n",
    "def is_palindrome(tup):\n",
    "    return tup == tup[::-1]\n",
    "\n",
    "# Create tuples for testing\n",
    "palindrome_tuple = (1, 2, 3, 2, 1)\n",
    "non_palindrome_tuple = (1, 2, 3, 4, 5)\n",
    "\n",
    "# Check if the tuples are palindromes\n",
    "is_palindrome1 = is_palindrome(palindrome_tuple)\n",
    "is_palindrome2 = is_palindrome(non_palindrome_tuple)\n",
    "\n",
    "# Print the results\n",
    "print(\"palindrome_tuple is a palindrome:\", is_palindrome1)\n",
    "print(\"non_palindrome_tuple is a palindrome:\", is_palindrome2)"
   ]
  },
  {
   "cell_type": "code",
   "execution_count": 41,
   "id": "18605388-b80e-44aa-b056-18b52c5b182a",
   "metadata": {},
   "outputs": [
    {
     "name": "stdout",
     "output_type": "stream",
     "text": [
      "(1, 4, 9, 16, 25)\n"
     ]
    }
   ],
   "source": [
    "#34. Create a tuple of squares of numbers from 1 to 5.\n",
    "tuple_s = (1,2,3,4,5)\n",
    "\n",
    "squred_tuple = tuple(i**2 for i in tuple_s)\n",
    "\n",
    "print(squred_tuple)"
   ]
  },
  {
   "cell_type": "code",
   "execution_count": 44,
   "id": "54cf6899-a861-430c-bf70-d56df668c059",
   "metadata": {},
   "outputs": [
    {
     "name": "stdout",
     "output_type": "stream",
     "text": [
      "(2, 4, 6, 8)\n"
     ]
    }
   ],
   "source": [
    "#35. Filter out all even numbers from a tuple.\n",
    "tupleNum = (1,2,3,4,5,6,7,8,9)\n",
    "\n",
    "filtered_tuple = tuple(i for i in tupleNum if i%2==0)\n",
    "\n",
    "print(filtered_tuple)"
   ]
  },
  {
   "cell_type": "code",
   "execution_count": 47,
   "id": "717f8d71-4fa1-4632-b07a-5f1eae9a815f",
   "metadata": {},
   "outputs": [
    {
     "name": "stdout",
     "output_type": "stream",
     "text": [
      "(2, 4, 6, 8, 10, 12, 14, 16, 18)\n"
     ]
    }
   ],
   "source": [
    "#36. Multiply all elements in a tuple by 2.\n",
    "tuple_01 = (1,2,3,4,5,6,7,8,9)\n",
    "\n",
    "tuple_2x = tuple(2*i for i in tuple_01)\n",
    "\n",
    "print(tuple_2x)"
   ]
  },
  {
   "cell_type": "code",
   "execution_count": 3,
   "id": "2f174d98-a58b-49b7-93e4-0e7b134d3a0c",
   "metadata": {},
   "outputs": [
    {
     "name": "stdout",
     "output_type": "stream",
     "text": [
      "(16, 27, 92, 2, 80, 80, 90, 12, 75, 65)\n"
     ]
    }
   ],
   "source": [
    "#37. Create a tuple of random numbers.\n",
    "import random\n",
    "\n",
    "random_tuples = tuple(random.randint(1,100) for i in range(10))\n",
    "\n",
    "print(random_tuples)"
   ]
  },
  {
   "cell_type": "code",
   "execution_count": 5,
   "id": "78939221-f733-45d6-8053-38c7fa7e2ee4",
   "metadata": {},
   "outputs": [
    {
     "name": "stdout",
     "output_type": "stream",
     "text": [
      "Tuple is not sorted\n"
     ]
    }
   ],
   "source": [
    "#38. Check if a tuple is sorted.\n",
    "tuple_a = (1,2,3,4,5,6,7,8,9)\n",
    "if tuple_a == sorted(tuple_a):\n",
    "    print(\"Tuple is sorted\")\n",
    "else:\n",
    "    print(\"Tuple is not sorted\")"
   ]
  },
  {
   "cell_type": "code",
   "execution_count": 6,
   "id": "9edd4d6e-413f-4416-82fe-953defc4cc97",
   "metadata": {},
   "outputs": [
    {
     "name": "stdout",
     "output_type": "stream",
     "text": [
      "(3, 4, 5, 1, 2)\n"
     ]
    }
   ],
   "source": [
    "#39. Rotate a tuple to the left by `n` positions.\n",
    "def rotate_tuple_left(tup, n):\n",
    "    n = n % len(tup)  # Ensure n is within the range of tuple length\n",
    "    rotated_tuple = tup[n:] + tup[:n]  # Rotate the tuple\n",
    "    return rotated_tuple\n",
    "\n",
    "# Example tuple\n",
    "my_tuple = (1, 2, 3, 4, 5)\n",
    "n_positions = 2\n",
    "result = rotate_tuple_left(my_tuple, n_positions)\n",
    "print(result)"
   ]
  },
  {
   "cell_type": "code",
   "execution_count": 7,
   "id": "f27b335e-ed12-4102-8eda-4a252c196bab",
   "metadata": {},
   "outputs": [
    {
     "name": "stdout",
     "output_type": "stream",
     "text": [
      "(4, 5, 1, 2, 3)\n"
     ]
    }
   ],
   "source": [
    "#40. Rotate a tuple to the right by `n` positions.\n",
    "def rotate_tuple_right(tup, n):\n",
    "    n = n % len(tup)  # Ensure n is within the range of tuple length\n",
    "    rotated_tuple = tup[-n:] + tup[:-n]  # Rotate the tuple\n",
    "    return rotated_tuple\n",
    "\n",
    "# Example tuple\n",
    "my_tuple = (1, 2, 3, 4, 5)\n",
    "n_positions = 2\n",
    "result = rotate_tuple_right(my_tuple, n_positions)\n",
    "print(result)"
   ]
  },
  {
   "cell_type": "code",
   "execution_count": 8,
   "id": "15293313-8a6a-4fe2-81d7-ca0a3fd70fee",
   "metadata": {},
   "outputs": [
    {
     "name": "stdout",
     "output_type": "stream",
     "text": [
      "(0, 1, 1, 2, 3)\n"
     ]
    }
   ],
   "source": [
    "#41. Create a tuple of the first 5 Fibonacci numbers.\n",
    "def generate_fibonacci(n):\n",
    "    fibonacci = [0, 1]  # Initialize the list with the first two Fibonacci numbers\n",
    "    while len(fibonacci) < n:  # Continue generating Fibonacci numbers until the list has n elements\n",
    "        next_number = fibonacci[-1] + fibonacci[-2]  # Calculate the next Fibonacci number\n",
    "        fibonacci.append(next_number)  # Add the next Fibonacci number to the list\n",
    "    return tuple(fibonacci)  # Convert the list to a tuple and return it\n",
    "\n",
    "# Call the generate_fibonacci function to create a tuple of the first 5 Fibonacci numbers\n",
    "fibonacci_tuple = generate_fibonacci(5)\n",
    "\n",
    "# Print the resulting tuple\n",
    "print(fibonacci_tuple)"
   ]
  },
  {
   "cell_type": "code",
   "execution_count": 10,
   "id": "2e734276-d8cd-490e-932a-54b4a2aef687",
   "metadata": {},
   "outputs": [
    {
     "name": "stdin",
     "output_type": "stream",
     "text": [
      "Enter text with commas h,e,l,l,o, ,w,o,r,l,d\n"
     ]
    },
    {
     "name": "stdout",
     "output_type": "stream",
     "text": [
      "Tuple of input user text : ('h', 'e', 'l', 'l', 'o', ' ', 'w', 'o', 'r', 'l', 'd')\n"
     ]
    }
   ],
   "source": [
    "#42. Create a tuple from user input.\n",
    "\n",
    "input_user = input(\"Enter text with commas\")\n",
    "\n",
    "converted_text = input_user.split(',')\n",
    "\n",
    "tuple_form = tuple(converted_text)\n",
    "\n",
    "\n",
    "print(\"Tuple of input user text :\",tuple_form)"
   ]
  },
  {
   "cell_type": "code",
   "execution_count": 11,
   "id": "78291751-73d2-47d9-937d-96b6e2aa266d",
   "metadata": {},
   "outputs": [
    {
     "name": "stdout",
     "output_type": "stream",
     "text": [
      "Swapped tuple: (1, 4, 3, 2, 5)\n"
     ]
    }
   ],
   "source": [
    "#43. Swap two elements in a tuple\n",
    "my_tuple = (1, 2, 3, 4, 5)\n",
    "\n",
    "# Swap elements at indices 1 and 3\n",
    "index1 = 1\n",
    "index2 = 3\n",
    "swapped_tuple = tuple(\n",
    "    my_tuple[i] if i not in (index1, index2) else\n",
    "    my_tuple[index2] if i == index1 else\n",
    "    my_tuple[index1]\n",
    "    for i in range(len(my_tuple))\n",
    ")\n",
    "\n",
    "# Print the swapped tuple\n",
    "print(\"Swapped tuple:\", swapped_tuple)"
   ]
  },
  {
   "cell_type": "code",
   "execution_count": 12,
   "id": "b4bcbbad-ce1a-429a-a2c7-049d2dedcb2d",
   "metadata": {},
   "outputs": [
    {
     "name": "stdout",
     "output_type": "stream",
     "text": [
      "Reversed tuple: (5, 4, 3, 2, 1)\n"
     ]
    }
   ],
   "source": [
    "#44. Reverse the elements of a tuple.\n",
    "my_tuple = (1, 2, 3, 4, 5)\n",
    "\n",
    "# Reverse the elements using slicing\n",
    "reversed_tuple = my_tuple[::-1]\n",
    "\n",
    "# Print the reversed tuple\n",
    "print(\"Reversed tuple:\", reversed_tuple)"
   ]
  },
  {
   "cell_type": "code",
   "execution_count": 14,
   "id": "fc3af0fb-9465-4443-a99a-7dfcd18b03fb",
   "metadata": {},
   "outputs": [
    {
     "name": "stdout",
     "output_type": "stream",
     "text": [
      "(1, 2, 4, 8, 16, 32, 64, 128, 256, 512)\n"
     ]
    }
   ],
   "source": [
    "#45. Create a tuple of the first `n` powers of 2.\n",
    "n = 10\n",
    "\n",
    "N_power = tuple(2**i for i in range(n))\n",
    "\n",
    "print(N_power)"
   ]
  },
  {
   "cell_type": "code",
   "execution_count": 19,
   "id": "1214b011-4259-4f43-88b4-ef5027482743",
   "metadata": {},
   "outputs": [
    {
     "name": "stdout",
     "output_type": "stream",
     "text": [
      "Longest string: which\n"
     ]
    }
   ],
   "source": [
    "#46. Find the longest string in a tuple of strings\n",
    "string_tuple = (\"ok\", \"Yes\", \"good\", \"why\", \"which\")\n",
    "\n",
    "longest_string = max(string_tuple,key=len)\n",
    "\n",
    "print(\"Longest string:\", longest_string)"
   ]
  },
  {
   "cell_type": "code",
   "execution_count": 21,
   "id": "c58592a4-0c73-4a0a-bdeb-f236f7a571e8",
   "metadata": {},
   "outputs": [
    {
     "name": "stdout",
     "output_type": "stream",
     "text": [
      "Shortest string: ok\n"
     ]
    }
   ],
   "source": [
    "#47. Find the shortest string in a tuple of strings.\n",
    "string_tuple = (\"ok\", \"Yes\", \"good\", \"why\", \"which\")\n",
    "\n",
    "shortest_string = min(string_tuple,key=len)\n",
    "\n",
    "print(\"Shortest string:\", shortest_string)"
   ]
  },
  {
   "cell_type": "code",
   "execution_count": 22,
   "id": "1b86b473-7acf-4b2b-91c3-3d5dabe33c59",
   "metadata": {},
   "outputs": [
    {
     "name": "stdout",
     "output_type": "stream",
     "text": [
      "Tuple of the first 5 triangular numbers: (1, 3, 6, 10, 15)\n"
     ]
    }
   ],
   "source": [
    "#48. Create a tuple of the first `n` triangular numbers.\n",
    "n = 5\n",
    "\n",
    "# Create a tuple of the first n triangular numbers using a list comprehension\n",
    "triangular_numbers_tuple = tuple((i * (i + 1)) // 2 for i in range(1, n + 1))\n",
    "\n",
    "# Print the tuple of triangular numbers\n",
    "print(\"Tuple of the first\", n, \"triangular numbers:\", triangular_numbers_tuple)"
   ]
  },
  {
   "cell_type": "code",
   "execution_count": 23,
   "id": "d3c0a787-9236-42b5-86f0-d78ada112d04",
   "metadata": {},
   "outputs": [
    {
     "name": "stdout",
     "output_type": "stream",
     "text": [
      "Main tuple contains subsequence tuple: True\n"
     ]
    }
   ],
   "source": [
    "#49. Check if a tuple contains another tuple as a subsequence.\n",
    "\n",
    "def contains_subsequence(main_tuple, sub_tuple):\n",
    "    sub_length = len(sub_tuple)\n",
    "    for i in range(len(main_tuple) - sub_length + 1):\n",
    "        if main_tuple[i:i+sub_length] == sub_tuple:\n",
    "            return True\n",
    "    return False\n",
    "\n",
    "main_tuple = (1, 2, 3, 4, 5, 6, 7, 8, 9)\n",
    "\n",
    "\n",
    "sub_tuple = (3, 4, 5)\n",
    "\n",
    "contains_subseq = contains_subsequence(main_tuple, sub_tuple)\n",
    "\n",
    "print(\"Main tuple contains subsequence tuple:\", contains_subseq)"
   ]
  },
  {
   "cell_type": "code",
   "execution_count": 24,
   "id": "d16411c8-90e9-4287-b5d0-8a72f9502ebd",
   "metadata": {},
   "outputs": [
    {
     "name": "stdout",
     "output_type": "stream",
     "text": [
      "Tuple of alternating 1s and 0s: (0, 1, 0, 1, 0, 1, 0, 1, 0, 1)\n"
     ]
    }
   ],
   "source": [
    "#50. Create a tuple of alternating 1s and 0s of length `n`.\n",
    "n = 10\n",
    "\n",
    "alternating_tuple = tuple(i % 2 for i in range(n))\n",
    "\n",
    "print(\"Tuple of alternating 1s and 0s:\", alternating_tuple)"
   ]
  },
  {
   "cell_type": "markdown",
   "id": "83c7bff7-d62b-4e7c-b663-3a56a8bd185b",
   "metadata": {},
   "source": [
    "Set Based Practice Problem :"
   ]
  },
  {
   "cell_type": "code",
   "execution_count": 5,
   "id": "6a4cb69b-a1fa-4aba-b43a-e1920e964d2c",
   "metadata": {},
   "outputs": [
    {
     "name": "stdout",
     "output_type": "stream",
     "text": [
      "{1, 2, 3, 4, 5}\n"
     ]
    }
   ],
   "source": [
    "#1. Create a set with integers from 1 to 5.\n",
    "integers_ =  set(range(1,6))\n",
    "print(integers_)"
   ]
  },
  {
   "cell_type": "code",
   "execution_count": 6,
   "id": "07dd6dbd-b92e-425a-9d21-e30ed8d7ae60",
   "metadata": {},
   "outputs": [
    {
     "name": "stdout",
     "output_type": "stream",
     "text": [
      "{1, 2, 3, 4, 5, 6}\n"
     ]
    }
   ],
   "source": [
    "#2. Add an element to a set\n",
    "\n",
    "set_a = {1,2,3,4,5}\n",
    "\n",
    "set_a.add(6)\n",
    "\n",
    "print(set_a)"
   ]
  },
  {
   "cell_type": "code",
   "execution_count": 7,
   "id": "a979f6cd-d514-492e-baaf-04e1cb4073fe",
   "metadata": {},
   "outputs": [
    {
     "name": "stdout",
     "output_type": "stream",
     "text": [
      "{1, 2, 3, 4, 5}\n"
     ]
    }
   ],
   "source": [
    "#3. Remove an element from a set.\n",
    "set_b = {1,2,0,3,4,5}\n",
    "\n",
    "set_b.remove(0)\n",
    "\n",
    "print(set_b)"
   ]
  },
  {
   "cell_type": "code",
   "execution_count": 17,
   "id": "b6fcbb0b-e47c-4d47-86d0-84977b7f64cd",
   "metadata": {},
   "outputs": [
    {
     "name": "stdout",
     "output_type": "stream",
     "text": [
      "Yes an elemnet is exist in a set\n"
     ]
    }
   ],
   "source": [
    "#4. Check if an element exists in a set.\n",
    "set_c = {1,2,3,4,5,6}\n",
    "\n",
    "element = 1\n",
    "    \n",
    "if element in set_c:\n",
    "    print(\"Yes an elemnet is exist in a set\")\n",
    "else:\n",
    "    print(\"No an elemnet does not exist in a set\")"
   ]
  },
  {
   "cell_type": "code",
   "execution_count": 12,
   "id": "8f524576-c7c5-4036-aa8e-8a817570d5f6",
   "metadata": {},
   "outputs": [
    {
     "name": "stdout",
     "output_type": "stream",
     "text": [
      "Length of set is : 9\n"
     ]
    }
   ],
   "source": [
    "#5. Find the length of a set without using the `len()` function.\n",
    "set_e = {1,2,3,6,4,9,7,34,5}\n",
    "\n",
    "count = 0\n",
    "\n",
    "for i in set_e:\n",
    "    count +=1\n",
    "print(\"Length of set is :\",count)"
   ]
  },
  {
   "cell_type": "code",
   "execution_count": 19,
   "id": "40137c69-d38e-4468-8630-3b0108ce45d7",
   "metadata": {},
   "outputs": [
    {
     "name": "stdout",
     "output_type": "stream",
     "text": [
      "set()\n"
     ]
    }
   ],
   "source": [
    "#6. Clear all elements from a set.\n",
    "set_f = {1,2,3,4,5,6}\n",
    "\n",
    "set_f.clear()\n",
    "try:\n",
    "    print(set_f)\n",
    "except:\n",
    "    pass"
   ]
  },
  {
   "cell_type": "code",
   "execution_count": 3,
   "id": "12e08e1a-715e-40ac-9707-3500479a34fa",
   "metadata": {},
   "outputs": [
    {
     "name": "stdout",
     "output_type": "stream",
     "text": [
      "{2, 4, 6, 8, 10}\n"
     ]
    }
   ],
   "source": [
    "#7. Create a set of even numbers from 1 to 10.\n",
    "set_even = set(i for i in range(1,11) if i%2==0)\n",
    "\n",
    "print(set_even)"
   ]
  },
  {
   "cell_type": "code",
   "execution_count": 5,
   "id": "9dfb834c-7161-439e-8cca-b767d10683cd",
   "metadata": {},
   "outputs": [
    {
     "name": "stdout",
     "output_type": "stream",
     "text": [
      "Set of odd numbers {1, 3, 5, 7, 9}\n"
     ]
    }
   ],
   "source": [
    "#8. Create a set of odd numbers from 1 to 10.\n",
    "\n",
    "set_odd = set(i for i in range(1,11) if i%2!=0)\n",
    "\n",
    "print(\"Set of odd numbers\",set_odd)"
   ]
  },
  {
   "cell_type": "code",
   "execution_count": 6,
   "id": "0434a9c3-9ba3-45ec-904f-c3477a36c233",
   "metadata": {},
   "outputs": [
    {
     "name": "stdout",
     "output_type": "stream",
     "text": [
      "{1, 2, 3, 4, 5, 6, 7, 8, 9, 10}\n"
     ]
    }
   ],
   "source": [
    "#9. Find the union of two sets.\n",
    "set_01 = {1,2,3,4,5}\n",
    "set_02 = {6,7,8,9,10}\n",
    "\n",
    "set_union = set_01.union(set_02)\n",
    "\n",
    "print(set_union)"
   ]
  },
  {
   "cell_type": "code",
   "execution_count": 11,
   "id": "daf94f81-7a37-40de-9481-431bfedc0168",
   "metadata": {},
   "outputs": [
    {
     "name": "stdout",
     "output_type": "stream",
     "text": [
      "{4, 5, 6}\n"
     ]
    }
   ],
   "source": [
    "#10. Find the intersection of two sets.\n",
    "set_03 = {1,2,3,4,5,6}\n",
    "set_04 = {4,5,6,7,8,9}\n",
    "\n",
    "set_intersec = set_03.intersection(set_04)\n",
    "\n",
    "print(set_intersec)"
   ]
  },
  {
   "cell_type": "code",
   "execution_count": 13,
   "id": "f4ea5d65-4cbf-488f-9288-73dd171e2922",
   "metadata": {},
   "outputs": [
    {
     "name": "stdout",
     "output_type": "stream",
     "text": [
      "{1, 2, 3, 7, 8, 9}\n"
     ]
    }
   ],
   "source": [
    "#11. Find the difference between two sets\n",
    "set_A = {1,2,3,4,5,6,7,8,9}\n",
    "set_B = {4,5,6}\n",
    "\n",
    "dif_set = set_A.difference(set_B)\n",
    "\n",
    "print(dif_set)"
   ]
  },
  {
   "cell_type": "code",
   "execution_count": 21,
   "id": "09814311-cc25-47b9-bda4-1f0e5069f2c0",
   "metadata": {},
   "outputs": [
    {
     "name": "stdout",
     "output_type": "stream",
     "text": [
      "Is set_A2 is a subset of set_A1 : True\n"
     ]
    }
   ],
   "source": [
    "#12. Check if a set is a subset of another set.\n",
    "set_A1 = {1,2,3,4,5,6}\n",
    "set_A2 = {3,4,5}\n",
    "\n",
    "issubset = set_A2.issubset(set_A1)\n",
    "print(\"Is set_A2 is a subset of set_A1 :\",issubset)"
   ]
  },
  {
   "cell_type": "code",
   "execution_count": 20,
   "id": "4bed40c5-9658-4a6c-aab9-55506c123785",
   "metadata": {},
   "outputs": [
    {
     "name": "stdout",
     "output_type": "stream",
     "text": [
      "Is set_B2 is a superset of set_B1 : True\n"
     ]
    }
   ],
   "source": [
    "#13. Check if a set is a superset of another set.\n",
    "set_B1 = {10,20,30}\n",
    "\n",
    "set_B2 = {10,20,30,40,50,60}\n",
    "\n",
    "issuperset = set_B2.issuperset(set_B1)\n",
    "\n",
    "print(\"Is set_B2 is a superset of set_B1 :\",issuperset)"
   ]
  },
  {
   "cell_type": "code",
   "execution_count": 24,
   "id": "eeefe6f4-768c-4187-b5d7-8159f062b715",
   "metadata": {},
   "outputs": [
    {
     "name": "stdout",
     "output_type": "stream",
     "text": [
      "Set form of list : {1, 2, 3, 4, 5, 6, 7}\n"
     ]
    }
   ],
   "source": [
    "#14. Create a set from a list.\n",
    "list_a = [1,2,3,4,5,6,7]\n",
    "\n",
    "converted_list = set(list_a)\n",
    "\n",
    "print(\"Set form of list :\",converted_list)"
   ]
  },
  {
   "cell_type": "code",
   "execution_count": 26,
   "id": "9ecff73e-efa0-4d18-8a76-daf8b06c3b03",
   "metadata": {},
   "outputs": [
    {
     "name": "stdout",
     "output_type": "stream",
     "text": [
      "List form of set : [1, 2, 3, 4, 5, 6]\n"
     ]
    }
   ],
   "source": [
    "#15. Convert a set to a list.\n",
    "set_A3 = {1,2,3,4,5,6}\n",
    "\n",
    "converted_set = list(set_A3)\n",
    "\n",
    "print(\"List form of set :\",converted_set)"
   ]
  },
  {
   "cell_type": "code",
   "execution_count": 29,
   "id": "061a98f9-017b-4f0f-851e-57050d32c2b9",
   "metadata": {},
   "outputs": [
    {
     "name": "stdout",
     "output_type": "stream",
     "text": [
      "Removed element is : 2\n",
      "Updated set after removing element : {1, 3, 4, 5, 6}\n"
     ]
    }
   ],
   "source": [
    "#16. Remove a random element from a set.\n",
    "import random\n",
    "set_B3 = {1,2,3,4,5,6}\n",
    "\n",
    "random_choice = random.choice(list(set_B3))\n",
    "\n",
    "set_B3.remove(random_choice)\n",
    "\n",
    "print(\"Removed element is :\",random_choice)\n",
    "print(\"Updated set after removing element :\",set_B3)"
   ]
  },
  {
   "cell_type": "code",
   "execution_count": 9,
   "id": "0d10ddd4-8eee-4dcf-9d0d-2d2d973323ad",
   "metadata": {},
   "outputs": [
    {
     "name": "stdout",
     "output_type": "stream",
     "text": [
      "Popped element : 1\n",
      "Popped set after popping : {3, 4, 5, 6}\n"
     ]
    }
   ],
   "source": [
    "#17. Pop an element from a set\n",
    "set_A1 = {1,3,4,5,6}\n",
    "\n",
    "popped_set = set_A1.pop()\n",
    "\n",
    "print(\"Popped element :\",popped_set)\n",
    "print(\"Popped set after popping :\",set_A1)"
   ]
  },
  {
   "cell_type": "code",
   "execution_count": 21,
   "id": "cf253ef8-6e23-47d3-9f65-ec2c2cd65f94",
   "metadata": {},
   "outputs": [
    {
     "name": "stdout",
     "output_type": "stream",
     "text": [
      "This two sets have no common elements \n"
     ]
    }
   ],
   "source": [
    "#18. Check if two sets have no elements in common.\n",
    "set_C = {1,2,3,4,5,6}\n",
    "\n",
    "set_D = {11,12,13,14,15,16}\n",
    "\n",
    "intersec = set_C.intersection(set_D)\n",
    "\n",
    "if not intersec:\n",
    "    print(\"This two sets have no common elements \")\n",
    "else:\n",
    "    print(\"This two sets have common elements of :\",intersec)"
   ]
  },
  {
   "cell_type": "code",
   "execution_count": 2,
   "id": "15e66392-c2ed-4b05-a9a3-e24632b5caf2",
   "metadata": {},
   "outputs": [
    {
     "name": "stdout",
     "output_type": "stream",
     "text": [
      "Symmetric diffrence : {1, 2, 3, 8, 9, 10}\n"
     ]
    }
   ],
   "source": [
    "#19. Find the symmetric difference between two sets.\n",
    "set_A = {1,2,3,4,5,6,7}\n",
    "set_B = {4,5,6,7,8,9,10}\n",
    "\n",
    "symmetric_diff = set_A^set_B\n",
    "\n",
    "print(\"Symmetric diffrence :\",symmetric_diff)"
   ]
  },
  {
   "cell_type": "code",
   "execution_count": 6,
   "id": "767069e7-aad0-4098-b2f2-66d5081f9bd5",
   "metadata": {},
   "outputs": [
    {
     "name": "stdout",
     "output_type": "stream",
     "text": [
      "Updated set : {1, 2, 3, 4, 5, 6, 7, 8, 9, 10, 11, 12}\n"
     ]
    }
   ],
   "source": [
    "#20. Update a set with elements from another set\n",
    "set_1 = {1,2,3,4,5,6}\n",
    "set_2 = {5,6,7,8,9,10,11,12}\n",
    "\n",
    "set_1.update(set_2)\n",
    "\n",
    "print(\"Updated set :\",set_1)"
   ]
  },
  {
   "cell_type": "code",
   "execution_count": 7,
   "id": "0d8bce64-0bfc-4a3b-82cf-e71459a7038b",
   "metadata": {},
   "outputs": [
    {
     "name": "stdout",
     "output_type": "stream",
     "text": [
      "Set of the first 5 prime numbers: {2, 3, 5, 7, 11}\n"
     ]
    }
   ],
   "source": [
    "#21. Create a set of the first 5 prime numbers.\n",
    "def is_prime(num):\n",
    "    if num <= 1:\n",
    "        return False\n",
    "    for i in range(2, int(num ** 0.5) + 1):\n",
    "        if num % i == 0:\n",
    "            return False\n",
    "    return True\n",
    "\n",
    "# Create an empty set to store the prime numbers\n",
    "prime_set = set()\n",
    "\n",
    "# Initialize the number to start checking for primes\n",
    "num = 2\n",
    "\n",
    "# Loop until we have found the first 5 prime numbers\n",
    "while len(prime_set) < 5:\n",
    "    # Check if the current number is prime using the is_prime function\n",
    "    if is_prime(num):\n",
    "        # If the number is prime, add it to the prime_set\n",
    "        prime_set.add(num)\n",
    "\n",
    "    # Move on to the next number for the next iteration\n",
    "    num += 1\n",
    "\n",
    "# Print the set of prime numbers\n",
    "print(\"Set of the first 5 prime numbers:\", prime_set)"
   ]
  },
  {
   "cell_type": "code",
   "execution_count": 8,
   "id": "52a7dbdd-95c6-4c4b-9be5-37f2cde76845",
   "metadata": {},
   "outputs": [
    {
     "name": "stdout",
     "output_type": "stream",
     "text": [
      "The sets are identical.\n"
     ]
    }
   ],
   "source": [
    "#22. Check if two sets are identical\n",
    "set_a = {1,2,3,4,5,6,7}\n",
    "set_b = {3,1,6,2,4,5,7}\n",
    "\n",
    "if set_a == set_b:\n",
    "    print(\"The sets are identical.\")\n",
    "else:\n",
    "    print(\"The sets are not identical.\")"
   ]
  },
  {
   "cell_type": "code",
   "execution_count": 9,
   "id": "54e474ca-53a5-4388-9e4c-4431933ff603",
   "metadata": {},
   "outputs": [
    {
     "name": "stdout",
     "output_type": "stream",
     "text": [
      "frozenset({1, 2, 3, 4, 5, 6, 7, 8, 9})\n"
     ]
    }
   ],
   "source": [
    "#23. Create a frozen set.\n",
    "list_int = [1,2,3,4,5,6,7,8,9]\n",
    "\n",
    "frozen_set = frozenset(list_int)\n",
    "\n",
    "print(frozen_set)"
   ]
  },
  {
   "cell_type": "code",
   "execution_count": 1,
   "id": "f19d0cc7-e39c-4298-97c3-5e16aa42b435",
   "metadata": {},
   "outputs": [
    {
     "name": "stdout",
     "output_type": "stream",
     "text": [
      "Set is disjoint with another set: True\n"
     ]
    }
   ],
   "source": [
    "#24. Check if a set is disjoint with another set.\n",
    "set_A = {1,2,3,4,5,6}\n",
    "set_B = {7,8,9,10,11,12}\n",
    "\n",
    "check_set = set_A.isdisjoint(set_B)\n",
    "\n",
    "print(\"Set is disjoint with another set:\",check_set)"
   ]
  },
  {
   "cell_type": "code",
   "execution_count": 16,
   "id": "edcf88fc-9cad-4ecf-ad93-a6573038c320",
   "metadata": {},
   "outputs": [
    {
     "name": "stdout",
     "output_type": "stream",
     "text": [
      "{1, 4, 9, 16, 25}\n"
     ]
    }
   ],
   "source": [
    "#25. Create a set of squares of numbers from 1 to 5\n",
    "set_1 = range(1,6)\n",
    "set_2 = set()\n",
    "\n",
    "for i in set_1:\n",
    "    \n",
    "    square = i**2\n",
    "    \n",
    "    set_2.add(square)\n",
    "\n",
    "print(set_2)"
   ]
  },
  {
   "cell_type": "code",
   "execution_count": 30,
   "id": "18a22904-b337-4d01-b4c7-966b43c01b74",
   "metadata": {},
   "outputs": [
    {
     "name": "stdout",
     "output_type": "stream",
     "text": [
      "{2, 4, 6, 8, 10}\n"
     ]
    }
   ],
   "source": [
    "#26. Filter out all even numbers from a set.\n",
    "\n",
    "set_ab = {1,2,3,4,5,6,7,8,9,10}\n",
    "\n",
    "set_empty = set()\n",
    "\n",
    "for i in set_ab:\n",
    "    if i%2==0:\n",
    "        set_empty.add(i)\n",
    "print(set_empty)"
   ]
  },
  {
   "cell_type": "code",
   "execution_count": 32,
   "id": "81e81c4b-9f08-4f44-af21-a2a081122422",
   "metadata": {},
   "outputs": [
    {
     "name": "stdout",
     "output_type": "stream",
     "text": [
      "{2, 4, 6, 8, 10, 12, 14, 16}\n"
     ]
    }
   ],
   "source": [
    "#27. Multiply all elements in a set by 2.\n",
    "set_A1 = {1,2,3,4,5,6,7,8}\n",
    "\n",
    "set_empty = set()\n",
    "\n",
    "for i in set_A1:\n",
    "    \n",
    "    two_time = i*2\n",
    "    \n",
    "    set_empty.add(two_time)\n",
    "\n",
    "print(set_empty)"
   ]
  },
  {
   "cell_type": "code",
   "execution_count": 34,
   "id": "054c224c-7291-4468-aa8f-c615a582a9cd",
   "metadata": {},
   "outputs": [
    {
     "name": "stdout",
     "output_type": "stream",
     "text": [
      "{64, 66, 100, 5, 38, 69, 73, 49, 53, 93}\n"
     ]
    }
   ],
   "source": [
    "#28. Create a set of random numbers\n",
    "\n",
    "import random\n",
    "\n",
    "num_limit = 10\n",
    "\n",
    "set_A = set()\n",
    "\n",
    "for i in range(num_limit):\n",
    "    \n",
    "    set_random = random.randint(1,100)\n",
    "    \n",
    "    set_A.add(set_random)\n",
    "print(set_A)"
   ]
  },
  {
   "cell_type": "code",
   "execution_count": 46,
   "id": "ed392f27-698c-4d73-ad53-8c771e727a6d",
   "metadata": {},
   "outputs": [
    {
     "name": "stdout",
     "output_type": "stream",
     "text": [
      "The set is empty.\n"
     ]
    }
   ],
   "source": [
    "#29. Check if a set is empty.\n",
    "my_set = set()\n",
    "\n",
    "if not my_set:\n",
    "    print(\"The set is empty.\")\n",
    "else:\n",
    "    print(\"The set is not empty.\")"
   ]
  },
  {
   "cell_type": "code",
   "execution_count": 47,
   "id": "610e82cc-f423-4ad1-89e5-bb9a221138fb",
   "metadata": {},
   "outputs": [
    {
     "name": "stdout",
     "output_type": "stream",
     "text": [
      "Nested Set: {frozenset({1, 2, 3, 4, 5}), frozenset({6, 7, 8, 9, 10})}\n"
     ]
    }
   ],
   "source": [
    "#30. Create a nested set (hint: use frozenset).\n",
    "\n",
    "set1 = {1, 2, 3, 4, 5}\n",
    "set2 = {6, 7, 8, 9, 10}\n",
    "\n",
    "\n",
    "frozen_set1 = frozenset(set1)\n",
    "frozen_set2 = frozenset(set2)\n",
    "\n",
    "\n",
    "nested_set = {frozen_set1, frozen_set2}\n",
    "\n",
    "print(\"Nested Set:\", nested_set)"
   ]
  },
  {
   "cell_type": "code",
   "execution_count": 57,
   "id": "0b2982c3-431e-4ae5-97c5-46d35dd15419",
   "metadata": {},
   "outputs": [
    {
     "name": "stdout",
     "output_type": "stream",
     "text": [
      "{1, 2, 3, 4, 5, 6}\n"
     ]
    }
   ],
   "source": [
    "#31. Remove an element from a set using the discard method.\n",
    "set_C1 = {1,2,8,3,4,5,6}\n",
    "\n",
    "element_to_remove = 8\n",
    "\n",
    "set_C1.discard(element_to_remove)\n",
    "\n",
    "print(set_C1)"
   ]
  },
  {
   "cell_type": "code",
   "execution_count": 62,
   "id": "bc886bf4-596b-4295-a955-3c70fbaa8a07",
   "metadata": {},
   "outputs": [
    {
     "name": "stdout",
     "output_type": "stream",
     "text": [
      "Is set_D2 is set_D1 subset ?  False\n",
      "Is set_D2 is set_D1 superset ? False\n",
      "intersection : {4, 5, 6}\n",
      "Union of two sets : {1, 2, 3, 4, 5, 6, 7, 8, 9, 10, 11, 12}\n",
      "Elements in set_D1 but not in set_D2: {1, 2, 3}\n",
      "Elements in set_D2 but not in set_D1: {7, 8, 9, 10, 11, 12}\n"
     ]
    }
   ],
   "source": [
    "#32. Compare two sets.\n",
    "set_D1 = {1,2,3,4,5,6}\n",
    "set_D2 = {4,5,6,7,8,9,10,11,12}\n",
    "\n",
    "is_subset = set_D1.issubset(set_D2)\n",
    "is_superset = set_D1.issuperset(set_D2)\n",
    "\n",
    "intersection = set_D1.intersection(set_D2)\n",
    "\n",
    "union = set_D1.union(set_D2)\n",
    "\n",
    "difference = set_D1.difference(set_D2)\n",
    "difference_ = set_D2.difference(set_D1)\n",
    "print(\"Is set_D2 is set_D1 subset ? \",is_subset)\n",
    "print(\"Is set_D2 is set_D1 superset ?\",is_superset)\n",
    "print(\"intersection :\",intersection)\n",
    "print(\"Union of two sets :\",union)\n",
    "print(\"Elements in set_D1 but not in set_D2:\",difference)\n",
    "print(\"Elements in set_D2 but not in set_D1:\",difference_)"
   ]
  },
  {
   "cell_type": "code",
   "execution_count": 66,
   "id": "eef1c74e-274f-415c-8363-c63029168fe3",
   "metadata": {},
   "outputs": [
    {
     "name": "stdout",
     "output_type": "stream",
     "text": [
      "{'A', 'e', 'p', 'l', ' ', 'n'}\n"
     ]
    }
   ],
   "source": [
    "#33. Create a set from a string.\n",
    "string_s = \"An Apple\"\n",
    "\n",
    "set_str = set(string_s)\n",
    "\n",
    "print(set_str)"
   ]
  },
  {
   "cell_type": "code",
   "execution_count": 4,
   "id": "b04db448-74da-4a25-9463-df458891e4fb",
   "metadata": {},
   "outputs": [
    {
     "name": "stdout",
     "output_type": "stream",
     "text": [
      "Set of integers : {1, 2, 3}\n"
     ]
    }
   ],
   "source": [
    "#34. Convert a set of strings to a set of integers.\n",
    "string_ = {\"1\",\"2\",\"3\"}\n",
    "\n",
    "set_ = set()\n",
    "\n",
    "for i in string_:\n",
    "    \n",
    "    integer = int(i)\n",
    "    \n",
    "    set_.add(integer)\n",
    "\n",
    "print(\"Set of integers :\",set_)"
   ]
  },
  {
   "cell_type": "code",
   "execution_count": 7,
   "id": "e92d3ca1-3eb0-4023-84a3-34338c6b6695",
   "metadata": {},
   "outputs": [
    {
     "name": "stdout",
     "output_type": "stream",
     "text": [
      "Set of string : {'6', '2', '3', '5', '7', '9', '1', '4', '8'}\n"
     ]
    }
   ],
   "source": [
    "#35. Convert a set of integers to a set of strings.\n",
    "\n",
    "integers_form = {1,2,3,4,5,6,7,8,9}\n",
    "\n",
    "set_i = set()\n",
    "\n",
    "for i in integers_form:\n",
    "    \n",
    "    string = str(i)\n",
    "    \n",
    "    set_i.add(string)\n",
    "print(\"Set of string :\", set_i)"
   ]
  },
  {
   "cell_type": "code",
   "execution_count": 11,
   "id": "690a0ea4-bcd8-4a75-adcb-4ae7f476c844",
   "metadata": {},
   "outputs": [
    {
     "name": "stdout",
     "output_type": "stream",
     "text": [
      "Set of tuple : (1, 2, 3, 4, 5, 6, 7, 8, 9)\n"
     ]
    }
   ],
   "source": [
    "#36. Create a set from a tuple.\n",
    "\n",
    "tuple_t = (1,2,3,4,5,6,7,8,9)\n",
    "\n",
    "set_tuple_t = set(tuple_t)\n",
    "\n",
    "print(\"Set of tuple :\",tuple_t)"
   ]
  },
  {
   "cell_type": "code",
   "execution_count": 12,
   "id": "6906e95f-39aa-41f0-b657-11849fc32f3c",
   "metadata": {},
   "outputs": [
    {
     "name": "stdout",
     "output_type": "stream",
     "text": [
      "(1, 2, 3, 4, 5, 6)\n"
     ]
    }
   ],
   "source": [
    "#37. Convert a set to a tuple\n",
    "set_s = {1,2,3,4,5,6}\n",
    "\n",
    "tuple_t = tuple(set_s)\n",
    "\n",
    "print(tuple_t)"
   ]
  },
  {
   "cell_type": "code",
   "execution_count": 14,
   "id": "50b0d4bd-a03a-4cf8-bf2e-97f73dacfa5a",
   "metadata": {},
   "outputs": [
    {
     "name": "stdout",
     "output_type": "stream",
     "text": [
      "Maximum value: 72\n"
     ]
    }
   ],
   "source": [
    "#38. Find the maximum value in a set.\n",
    "my_set = {65, 17, 72, 43, 18}\n",
    "\n",
    "\n",
    "max_value = None\n",
    "\n",
    "for num in my_set:\n",
    "    \n",
    "    if max_value is None or num > max_value:\n",
    "        \n",
    "        max_value = num  \n",
    "\n",
    "print(\"Maximum value:\", max_value)"
   ]
  },
  {
   "cell_type": "code",
   "execution_count": 18,
   "id": "8f1ebb7f-90be-4aad-a0c8-3aaaf2bdfb04",
   "metadata": {},
   "outputs": [
    {
     "name": "stdout",
     "output_type": "stream",
     "text": [
      "The minimum value in the set is: 4\n"
     ]
    }
   ],
   "source": [
    "#39. Find the minimum value in a set\n",
    "number_set = {15, 8, 23, 4, 42, 11}\n",
    "\n",
    "\n",
    "min_value = None\n",
    "\n",
    "\n",
    "for num in number_set:\n",
    "    if min_value is None or num < min_value:\n",
    "        min_value = num\n",
    "\n",
    "print(\"The minimum value in the set is:\", min_value)"
   ]
  },
  {
   "cell_type": "code",
   "execution_count": 24,
   "id": "5fce6ab0-a99e-4a3e-9bfe-068cbfbc8d93",
   "metadata": {},
   "outputs": [
    {
     "name": "stdout",
     "output_type": "stream",
     "text": [
      "Enter elements for the set (type 'done' to finish):\n"
     ]
    },
    {
     "name": "stdin",
     "output_type": "stream",
     "text": [
      ">  hello world\n",
      ">  done\n"
     ]
    },
    {
     "name": "stdout",
     "output_type": "stream",
     "text": [
      "Final set: {'hello world'}\n"
     ]
    }
   ],
   "source": [
    "#40. Create a set from user input.\n",
    "user_set = set()\n",
    "\n",
    "\n",
    "print(\"Enter elements for the set (type 'done' to finish):\")\n",
    "while True:\n",
    "    user_input = input(\"> \")  \n",
    "\n",
    "    if user_input.lower() == 'done':\n",
    "        break  \n",
    "\n",
    "    user_set.add(user_input)\n",
    "\n",
    "print(\"Final set:\", user_set)"
   ]
  },
  {
   "cell_type": "code",
   "execution_count": 1,
   "id": "f4f8ad7a-5b04-4ff4-9f2a-6809ffbf9e70",
   "metadata": {},
   "outputs": [
    {
     "name": "stdout",
     "output_type": "stream",
     "text": [
      "The intersection of the two sets is not empty.\n"
     ]
    }
   ],
   "source": [
    "#41. Check if the intersection of two sets is empty.\n",
    "\n",
    "set1 = {1, 2, 3, 4, 5}\n",
    "set2 = {4, 5, 6, 7, 8}\n",
    "\n",
    "intersection_result = set1.intersection(set2)\n",
    "\n",
    "\n",
    "if not intersection_result:\n",
    "    print(\"The intersection of the two sets is empty.\")\n",
    "else:\n",
    "    print(\"The intersection of the two sets is not empty.\")"
   ]
  },
  {
   "cell_type": "code",
   "execution_count": 2,
   "id": "4d79e7f1-0a4a-4a16-945c-1b79407c900d",
   "metadata": {},
   "outputs": [
    {
     "name": "stdout",
     "output_type": "stream",
     "text": [
      "Set of the first 5 Fibonacci numbers: {0, 1, 2, 3, 5}\n"
     ]
    }
   ],
   "source": [
    "#42. Create a set of the first 5 Fibonacci numbers.\n",
    "fibonacci_set = set()\n",
    "\n",
    "a, b = 0, 1\n",
    "\n",
    "for _ in range(6):\n",
    "    fibonacci_set.add(a)\n",
    "\n",
    "    a, b = b, a + b\n",
    "\n",
    "print(\"Set of the first 5 Fibonacci numbers:\", fibonacci_set)"
   ]
  },
  {
   "cell_type": "code",
   "execution_count": 3,
   "id": "65c3f713-6dc0-4015-9646-c64971002d71",
   "metadata": {},
   "outputs": [
    {
     "name": "stdout",
     "output_type": "stream",
     "text": [
      "Original List: [2, 4, 6, 8, 4, 10, 6, 12, 14, 8]\n",
      "List with Duplicates Removed: [2, 4, 6, 8, 10, 12, 14]\n"
     ]
    }
   ],
   "source": [
    "#43. Remove duplicates from a list using sets\n",
    "\n",
    "original_list = [2, 4, 6, 8, 4, 10, 6, 12, 14, 8]\n",
    "\n",
    "\n",
    "unique_set = set(original_list)\n",
    "\n",
    "\n",
    "\n",
    "unique_list = list(unique_set)\n",
    "\n",
    "\n",
    "\n",
    "print(\"Original List:\", original_list)\n",
    "print(\"List with Duplicates Removed:\", unique_list)"
   ]
  },
  {
   "cell_type": "code",
   "execution_count": 4,
   "id": "5401c548-689d-421d-bfdd-1d50c7556021",
   "metadata": {},
   "outputs": [
    {
     "name": "stdout",
     "output_type": "stream",
     "text": [
      "The sets have the same elements.\n"
     ]
    }
   ],
   "source": [
    "#44. Check if two sets have the same elements, regardless of their count.\n",
    "def have_same_elements(set1, set2):\n",
    "   \n",
    "    sorted_list1 = sorted(list(set1))\n",
    "    sorted_list2 = sorted(list(set2))\n",
    "\n",
    "    \n",
    "    return sorted_list1 == sorted_list2\n",
    "\n",
    "# Example sets\n",
    "set1 = {1, 2, 3, 2, 1}\n",
    "set2 = {3, 1, 2}\n",
    "\n",
    "\n",
    "result = have_same_elements(set1, set2)\n",
    "\n",
    "\n",
    "if result:\n",
    "    print(\"The sets have the same elements.\")\n",
    "else:\n",
    "    print(\"The sets do not have the same elements.\")"
   ]
  },
  {
   "cell_type": "code",
   "execution_count": 7,
   "id": "cc293260-9209-4a91-800e-c3c6227ef155",
   "metadata": {},
   "outputs": [
    {
     "name": "stdout",
     "output_type": "stream",
     "text": [
      "{1, 2, 4, 8, 16}\n"
     ]
    }
   ],
   "source": [
    "#45. Create a set of the first `n` powers of 2.\n",
    "def generate_powers_of_2(n):\n",
    "\n",
    "    powers_of_2 = set()\n",
    "\n",
    "    \n",
    "    for i in range(n):\n",
    "        \n",
    "        power = 2 ** i\n",
    "\n",
    "\n",
    "        powers_of_2.add(power)\n",
    "\n",
    "\n",
    "    return powers_of_2\n",
    "\n",
    "\n",
    "n = 5\n",
    "\n",
    "\n",
    "powers_set = generate_powers_of_2(n)\n",
    "\n",
    "\n",
    "print(powers_set)"
   ]
  },
  {
   "cell_type": "code",
   "execution_count": 8,
   "id": "585b123a-9e76-434d-8a40-74c836489eb1",
   "metadata": {},
   "outputs": [
    {
     "name": "stdout",
     "output_type": "stream",
     "text": [
      "Common elements: [7, 9, 12]\n"
     ]
    }
   ],
   "source": [
    "#46. Find the common elements between a set and a list.\n",
    "\n",
    "my_set = {3, 7, 9, 12, 15}\n",
    "my_list = [7, 12, 5, 9]\n",
    "\n",
    "\n",
    "list_to_set = set(my_list)\n",
    "\n",
    "\n",
    "common_elements = []\n",
    "\n",
    "\n",
    "for element in my_set:\n",
    "    \n",
    "    if element in list_to_set:\n",
    "\n",
    "        common_elements.append(element)\n",
    "\n",
    "\n",
    "print(\"Common elements:\", common_elements)"
   ]
  },
  {
   "cell_type": "code",
   "execution_count": 10,
   "id": "9361b58c-2c64-432b-8709-4a26d314dbb3",
   "metadata": {},
   "outputs": [
    {
     "name": "stdin",
     "output_type": "stream",
     "text": [
      "Enter the value of n:  5\n"
     ]
    },
    {
     "name": "stdout",
     "output_type": "stream",
     "text": [
      "The set of the first 5 triangular numbers is: {1, 3, 6, 10, 15}\n"
     ]
    }
   ],
   "source": [
    "#47. Create a set of the first `n` triangular numbers.\n",
    "def generate_triangular_numbers(n):\n",
    "    triangular_numbers = set() \n",
    "    for i in range(1, n + 1):\n",
    "        triangular_number = i * (i + 1) // 2\n",
    "        triangular_numbers.add(triangular_number)  \n",
    "    return triangular_numbers\n",
    "\n",
    "\n",
    "n = int(input(\"Enter the value of n: \"))\n",
    "\n",
    "\n",
    "triangular_set = generate_triangular_numbers(n)\n",
    "\n",
    "\n",
    "print(f\"The set of the first {n} triangular numbers is:\", triangular_set)"
   ]
  },
  {
   "cell_type": "code",
   "execution_count": 11,
   "id": "65745b43-2406-4ca4-b5e0-e71a1ba10091",
   "metadata": {},
   "outputs": [
    {
     "name": "stdout",
     "output_type": "stream",
     "text": [
      "set2 is a subset of set1\n"
     ]
    }
   ],
   "source": [
    "#48. Check if a set contains another set as a subset.\n",
    "set1 = {1, 2, 3, 4, 5}\n",
    "set2 = {3, 4}\n",
    "\n",
    "\n",
    "is_subset = set2.issubset(set1)\n",
    "\n",
    "\n",
    "if is_subset:\n",
    "    print(\"set2 is a subset of set1\")\n",
    "else:\n",
    "    print(\"set2 is not a subset of set1\")"
   ]
  },
  {
   "cell_type": "code",
   "execution_count": 12,
   "id": "bbec5cb4-6e9f-44b4-a86d-48a55c82622e",
   "metadata": {},
   "outputs": [
    {
     "name": "stdout",
     "output_type": "stream",
     "text": [
      "{0, 1}\n"
     ]
    }
   ],
   "source": [
    "#49. Create a set of alternating 1s and 0s of length `n`.\n",
    "def create_alternating_set(n):\n",
    "   \n",
    "    alternating_set = set()\n",
    "\n",
    "    \n",
    "    for i in range(n):\n",
    "        \n",
    "        if i % 2 == 0:\n",
    "            alternating_set.add(1)  \n",
    "        else:\n",
    "            alternating_set.add(0)  \n",
    "\n",
    "    return alternating_set\n",
    "\n",
    "\n",
    "length_n = 10\n",
    "\n",
    "\n",
    "result = create_alternating_set(length_n)\n",
    "\n",
    "\n",
    "print(result)"
   ]
  },
  {
   "cell_type": "code",
   "execution_count": null,
   "id": "3cddb2e7-1b3c-457f-a4f6-519b2548f184",
   "metadata": {},
   "outputs": [
    {
     "name": "stdout",
     "output_type": "stream",
     "text": [
      "Merged Set: {1, 2, 3, 4, 5, 6, 7}\n"
     ]
    }
   ],
   "source": [
    "#50. Merge multiple sets into one.\n",
    "set1 = {1, 2, 3}\n",
    "set2 = {3, 4, 5}\n",
    "set3 = {5, 6, 7}\n",
    "\n",
    "# Step 2: Use the union() method to merge sets\n",
    "merged_set = set1.union(set2, set3)\n",
    "\n",
    "# Alternatively, you can use the | operator\n",
    "# merged_set = set1 | set2 | set3\n",
    "\n",
    "# Step 3: Print the merged set\n",
    "print(\"Merged Set:\", merged_set)"
   ]
  },
  {
   "cell_type": "code",
   "execution_count": null,
   "id": "8548dff8-d10f-4bb2-99c5-ab0673c9f7fe",
   "metadata": {},
   "outputs": [],
   "source": [
    "\n"
   ]
  }
 ],
 "metadata": {
  "kernelspec": {
   "display_name": "Python 3 (ipykernel)",
   "language": "python",
   "name": "python3"
  },
  "language_info": {
   "codemirror_mode": {
    "name": "ipython",
    "version": 3
   },
   "file_extension": ".py",
   "mimetype": "text/x-python",
   "name": "python",
   "nbconvert_exporter": "python",
   "pygments_lexer": "ipython3",
   "version": "3.10.8"
  }
 },
 "nbformat": 4,
 "nbformat_minor": 5
}
